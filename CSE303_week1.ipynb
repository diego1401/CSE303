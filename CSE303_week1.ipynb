{
  "nbformat": 4,
  "nbformat_minor": 0,
  "metadata": {
    "colab": {
      "name": "CSE303_week1.ipynb",
      "provenance": [],
      "collapsed_sections": [],
      "authorship_tag": "ABX9TyNFUQqcyQd53fXAmOdQG++E",
      "include_colab_link": true
    },
    "kernelspec": {
      "name": "python3",
      "display_name": "Python 3"
    },
    "widgets": {
      "application/vnd.jupyter.widget-state+json": {
        "fc5d6cd75b054d93b63cd77368f8a37f": {
          "model_module": "@jupyter-widgets/controls",
          "model_name": "HBoxModel",
          "state": {
            "_view_name": "HBoxView",
            "_dom_classes": [],
            "_model_name": "HBoxModel",
            "_view_module": "@jupyter-widgets/controls",
            "_model_module_version": "1.5.0",
            "_view_count": null,
            "_view_module_version": "1.5.0",
            "box_style": "",
            "layout": "IPY_MODEL_7a60990726b74e99934f954b516066a4",
            "_model_module": "@jupyter-widgets/controls",
            "children": [
              "IPY_MODEL_d1e55e7bc1ce4fc9859f06eece1bcae1",
              "IPY_MODEL_38247aeb672a4d7090c282d407a52545"
            ]
          }
        },
        "7a60990726b74e99934f954b516066a4": {
          "model_module": "@jupyter-widgets/base",
          "model_name": "LayoutModel",
          "state": {
            "_view_name": "LayoutView",
            "grid_template_rows": null,
            "right": null,
            "justify_content": null,
            "_view_module": "@jupyter-widgets/base",
            "overflow": null,
            "_model_module_version": "1.2.0",
            "_view_count": null,
            "flex_flow": null,
            "width": null,
            "min_width": null,
            "border": null,
            "align_items": null,
            "bottom": null,
            "_model_module": "@jupyter-widgets/base",
            "top": null,
            "grid_column": null,
            "overflow_y": null,
            "overflow_x": null,
            "grid_auto_flow": null,
            "grid_area": null,
            "grid_template_columns": null,
            "flex": null,
            "_model_name": "LayoutModel",
            "justify_items": null,
            "grid_row": null,
            "max_height": null,
            "align_content": null,
            "visibility": null,
            "align_self": null,
            "height": null,
            "min_height": null,
            "padding": null,
            "grid_auto_rows": null,
            "grid_gap": null,
            "max_width": null,
            "order": null,
            "_view_module_version": "1.2.0",
            "grid_template_areas": null,
            "object_position": null,
            "object_fit": null,
            "grid_auto_columns": null,
            "margin": null,
            "display": null,
            "left": null
          }
        },
        "d1e55e7bc1ce4fc9859f06eece1bcae1": {
          "model_module": "@jupyter-widgets/controls",
          "model_name": "FloatProgressModel",
          "state": {
            "_view_name": "ProgressView",
            "style": "IPY_MODEL_5514e90e642946de9194c09cb9bf802c",
            "_dom_classes": [],
            "description": "",
            "_model_name": "FloatProgressModel",
            "bar_style": "success",
            "max": 1,
            "_view_module": "@jupyter-widgets/controls",
            "_model_module_version": "1.5.0",
            "value": 1,
            "_view_count": null,
            "_view_module_version": "1.5.0",
            "orientation": "horizontal",
            "min": 0,
            "description_tooltip": null,
            "_model_module": "@jupyter-widgets/controls",
            "layout": "IPY_MODEL_9251e3f58ecc43e4b25ac61b66d4811c"
          }
        },
        "38247aeb672a4d7090c282d407a52545": {
          "model_module": "@jupyter-widgets/controls",
          "model_name": "HTMLModel",
          "state": {
            "_view_name": "HTMLView",
            "style": "IPY_MODEL_832b994b78944f258b7a2313cb75061a",
            "_dom_classes": [],
            "description": "",
            "_model_name": "HTMLModel",
            "placeholder": "​",
            "_view_module": "@jupyter-widgets/controls",
            "_model_module_version": "1.5.0",
            "value": " 9920512/? [1:01:53&lt;00:00, 2671.55it/s]",
            "_view_count": null,
            "_view_module_version": "1.5.0",
            "description_tooltip": null,
            "_model_module": "@jupyter-widgets/controls",
            "layout": "IPY_MODEL_76587903e413474d8d6db9c3e600ef12"
          }
        },
        "5514e90e642946de9194c09cb9bf802c": {
          "model_module": "@jupyter-widgets/controls",
          "model_name": "ProgressStyleModel",
          "state": {
            "_view_name": "StyleView",
            "_model_name": "ProgressStyleModel",
            "description_width": "initial",
            "_view_module": "@jupyter-widgets/base",
            "_model_module_version": "1.5.0",
            "_view_count": null,
            "_view_module_version": "1.2.0",
            "bar_color": null,
            "_model_module": "@jupyter-widgets/controls"
          }
        },
        "9251e3f58ecc43e4b25ac61b66d4811c": {
          "model_module": "@jupyter-widgets/base",
          "model_name": "LayoutModel",
          "state": {
            "_view_name": "LayoutView",
            "grid_template_rows": null,
            "right": null,
            "justify_content": null,
            "_view_module": "@jupyter-widgets/base",
            "overflow": null,
            "_model_module_version": "1.2.0",
            "_view_count": null,
            "flex_flow": null,
            "width": null,
            "min_width": null,
            "border": null,
            "align_items": null,
            "bottom": null,
            "_model_module": "@jupyter-widgets/base",
            "top": null,
            "grid_column": null,
            "overflow_y": null,
            "overflow_x": null,
            "grid_auto_flow": null,
            "grid_area": null,
            "grid_template_columns": null,
            "flex": null,
            "_model_name": "LayoutModel",
            "justify_items": null,
            "grid_row": null,
            "max_height": null,
            "align_content": null,
            "visibility": null,
            "align_self": null,
            "height": null,
            "min_height": null,
            "padding": null,
            "grid_auto_rows": null,
            "grid_gap": null,
            "max_width": null,
            "order": null,
            "_view_module_version": "1.2.0",
            "grid_template_areas": null,
            "object_position": null,
            "object_fit": null,
            "grid_auto_columns": null,
            "margin": null,
            "display": null,
            "left": null
          }
        },
        "832b994b78944f258b7a2313cb75061a": {
          "model_module": "@jupyter-widgets/controls",
          "model_name": "DescriptionStyleModel",
          "state": {
            "_view_name": "StyleView",
            "_model_name": "DescriptionStyleModel",
            "description_width": "",
            "_view_module": "@jupyter-widgets/base",
            "_model_module_version": "1.5.0",
            "_view_count": null,
            "_view_module_version": "1.2.0",
            "_model_module": "@jupyter-widgets/controls"
          }
        },
        "76587903e413474d8d6db9c3e600ef12": {
          "model_module": "@jupyter-widgets/base",
          "model_name": "LayoutModel",
          "state": {
            "_view_name": "LayoutView",
            "grid_template_rows": null,
            "right": null,
            "justify_content": null,
            "_view_module": "@jupyter-widgets/base",
            "overflow": null,
            "_model_module_version": "1.2.0",
            "_view_count": null,
            "flex_flow": null,
            "width": null,
            "min_width": null,
            "border": null,
            "align_items": null,
            "bottom": null,
            "_model_module": "@jupyter-widgets/base",
            "top": null,
            "grid_column": null,
            "overflow_y": null,
            "overflow_x": null,
            "grid_auto_flow": null,
            "grid_area": null,
            "grid_template_columns": null,
            "flex": null,
            "_model_name": "LayoutModel",
            "justify_items": null,
            "grid_row": null,
            "max_height": null,
            "align_content": null,
            "visibility": null,
            "align_self": null,
            "height": null,
            "min_height": null,
            "padding": null,
            "grid_auto_rows": null,
            "grid_gap": null,
            "max_width": null,
            "order": null,
            "_view_module_version": "1.2.0",
            "grid_template_areas": null,
            "object_position": null,
            "object_fit": null,
            "grid_auto_columns": null,
            "margin": null,
            "display": null,
            "left": null
          }
        },
        "d8eaa805a2014f35911b115470b353fc": {
          "model_module": "@jupyter-widgets/controls",
          "model_name": "HBoxModel",
          "state": {
            "_view_name": "HBoxView",
            "_dom_classes": [],
            "_model_name": "HBoxModel",
            "_view_module": "@jupyter-widgets/controls",
            "_model_module_version": "1.5.0",
            "_view_count": null,
            "_view_module_version": "1.5.0",
            "box_style": "",
            "layout": "IPY_MODEL_0c14bce0f3464243b3e0c3f7e63c6317",
            "_model_module": "@jupyter-widgets/controls",
            "children": [
              "IPY_MODEL_ae0e7da528da4d52a8b679d5824d6b19",
              "IPY_MODEL_6b013247e6c045259946275665e3df0e"
            ]
          }
        },
        "0c14bce0f3464243b3e0c3f7e63c6317": {
          "model_module": "@jupyter-widgets/base",
          "model_name": "LayoutModel",
          "state": {
            "_view_name": "LayoutView",
            "grid_template_rows": null,
            "right": null,
            "justify_content": null,
            "_view_module": "@jupyter-widgets/base",
            "overflow": null,
            "_model_module_version": "1.2.0",
            "_view_count": null,
            "flex_flow": null,
            "width": null,
            "min_width": null,
            "border": null,
            "align_items": null,
            "bottom": null,
            "_model_module": "@jupyter-widgets/base",
            "top": null,
            "grid_column": null,
            "overflow_y": null,
            "overflow_x": null,
            "grid_auto_flow": null,
            "grid_area": null,
            "grid_template_columns": null,
            "flex": null,
            "_model_name": "LayoutModel",
            "justify_items": null,
            "grid_row": null,
            "max_height": null,
            "align_content": null,
            "visibility": null,
            "align_self": null,
            "height": null,
            "min_height": null,
            "padding": null,
            "grid_auto_rows": null,
            "grid_gap": null,
            "max_width": null,
            "order": null,
            "_view_module_version": "1.2.0",
            "grid_template_areas": null,
            "object_position": null,
            "object_fit": null,
            "grid_auto_columns": null,
            "margin": null,
            "display": null,
            "left": null
          }
        },
        "ae0e7da528da4d52a8b679d5824d6b19": {
          "model_module": "@jupyter-widgets/controls",
          "model_name": "FloatProgressModel",
          "state": {
            "_view_name": "ProgressView",
            "style": "IPY_MODEL_8db7dfc3f5df4116b19c5fb55511bcf1",
            "_dom_classes": [],
            "description": "",
            "_model_name": "FloatProgressModel",
            "bar_style": "success",
            "max": 1,
            "_view_module": "@jupyter-widgets/controls",
            "_model_module_version": "1.5.0",
            "value": 1,
            "_view_count": null,
            "_view_module_version": "1.5.0",
            "orientation": "horizontal",
            "min": 0,
            "description_tooltip": null,
            "_model_module": "@jupyter-widgets/controls",
            "layout": "IPY_MODEL_e21087fb229e43598c72ea25c1dddf5a"
          }
        },
        "6b013247e6c045259946275665e3df0e": {
          "model_module": "@jupyter-widgets/controls",
          "model_name": "HTMLModel",
          "state": {
            "_view_name": "HTMLView",
            "style": "IPY_MODEL_0702535880be4d44bab154bd6e413430",
            "_dom_classes": [],
            "description": "",
            "_model_name": "HTMLModel",
            "placeholder": "​",
            "_view_module": "@jupyter-widgets/controls",
            "_model_module_version": "1.5.0",
            "value": " 32768/? [00:05&lt;00:00, 5981.13it/s]",
            "_view_count": null,
            "_view_module_version": "1.5.0",
            "description_tooltip": null,
            "_model_module": "@jupyter-widgets/controls",
            "layout": "IPY_MODEL_abcbe860de6c44e0a90d93997844b649"
          }
        },
        "8db7dfc3f5df4116b19c5fb55511bcf1": {
          "model_module": "@jupyter-widgets/controls",
          "model_name": "ProgressStyleModel",
          "state": {
            "_view_name": "StyleView",
            "_model_name": "ProgressStyleModel",
            "description_width": "initial",
            "_view_module": "@jupyter-widgets/base",
            "_model_module_version": "1.5.0",
            "_view_count": null,
            "_view_module_version": "1.2.0",
            "bar_color": null,
            "_model_module": "@jupyter-widgets/controls"
          }
        },
        "e21087fb229e43598c72ea25c1dddf5a": {
          "model_module": "@jupyter-widgets/base",
          "model_name": "LayoutModel",
          "state": {
            "_view_name": "LayoutView",
            "grid_template_rows": null,
            "right": null,
            "justify_content": null,
            "_view_module": "@jupyter-widgets/base",
            "overflow": null,
            "_model_module_version": "1.2.0",
            "_view_count": null,
            "flex_flow": null,
            "width": null,
            "min_width": null,
            "border": null,
            "align_items": null,
            "bottom": null,
            "_model_module": "@jupyter-widgets/base",
            "top": null,
            "grid_column": null,
            "overflow_y": null,
            "overflow_x": null,
            "grid_auto_flow": null,
            "grid_area": null,
            "grid_template_columns": null,
            "flex": null,
            "_model_name": "LayoutModel",
            "justify_items": null,
            "grid_row": null,
            "max_height": null,
            "align_content": null,
            "visibility": null,
            "align_self": null,
            "height": null,
            "min_height": null,
            "padding": null,
            "grid_auto_rows": null,
            "grid_gap": null,
            "max_width": null,
            "order": null,
            "_view_module_version": "1.2.0",
            "grid_template_areas": null,
            "object_position": null,
            "object_fit": null,
            "grid_auto_columns": null,
            "margin": null,
            "display": null,
            "left": null
          }
        },
        "0702535880be4d44bab154bd6e413430": {
          "model_module": "@jupyter-widgets/controls",
          "model_name": "DescriptionStyleModel",
          "state": {
            "_view_name": "StyleView",
            "_model_name": "DescriptionStyleModel",
            "description_width": "",
            "_view_module": "@jupyter-widgets/base",
            "_model_module_version": "1.5.0",
            "_view_count": null,
            "_view_module_version": "1.2.0",
            "_model_module": "@jupyter-widgets/controls"
          }
        },
        "abcbe860de6c44e0a90d93997844b649": {
          "model_module": "@jupyter-widgets/base",
          "model_name": "LayoutModel",
          "state": {
            "_view_name": "LayoutView",
            "grid_template_rows": null,
            "right": null,
            "justify_content": null,
            "_view_module": "@jupyter-widgets/base",
            "overflow": null,
            "_model_module_version": "1.2.0",
            "_view_count": null,
            "flex_flow": null,
            "width": null,
            "min_width": null,
            "border": null,
            "align_items": null,
            "bottom": null,
            "_model_module": "@jupyter-widgets/base",
            "top": null,
            "grid_column": null,
            "overflow_y": null,
            "overflow_x": null,
            "grid_auto_flow": null,
            "grid_area": null,
            "grid_template_columns": null,
            "flex": null,
            "_model_name": "LayoutModel",
            "justify_items": null,
            "grid_row": null,
            "max_height": null,
            "align_content": null,
            "visibility": null,
            "align_self": null,
            "height": null,
            "min_height": null,
            "padding": null,
            "grid_auto_rows": null,
            "grid_gap": null,
            "max_width": null,
            "order": null,
            "_view_module_version": "1.2.0",
            "grid_template_areas": null,
            "object_position": null,
            "object_fit": null,
            "grid_auto_columns": null,
            "margin": null,
            "display": null,
            "left": null
          }
        },
        "dba1627d8a1c43a484391189d959f10c": {
          "model_module": "@jupyter-widgets/controls",
          "model_name": "HBoxModel",
          "state": {
            "_view_name": "HBoxView",
            "_dom_classes": [],
            "_model_name": "HBoxModel",
            "_view_module": "@jupyter-widgets/controls",
            "_model_module_version": "1.5.0",
            "_view_count": null,
            "_view_module_version": "1.5.0",
            "box_style": "",
            "layout": "IPY_MODEL_a94dbfb364f54fb2b220141e8361a3db",
            "_model_module": "@jupyter-widgets/controls",
            "children": [
              "IPY_MODEL_857582c416584958b806d58300a8ef37",
              "IPY_MODEL_7bdc02917f9242fe930d5ab1af597a3f"
            ]
          }
        },
        "a94dbfb364f54fb2b220141e8361a3db": {
          "model_module": "@jupyter-widgets/base",
          "model_name": "LayoutModel",
          "state": {
            "_view_name": "LayoutView",
            "grid_template_rows": null,
            "right": null,
            "justify_content": null,
            "_view_module": "@jupyter-widgets/base",
            "overflow": null,
            "_model_module_version": "1.2.0",
            "_view_count": null,
            "flex_flow": null,
            "width": null,
            "min_width": null,
            "border": null,
            "align_items": null,
            "bottom": null,
            "_model_module": "@jupyter-widgets/base",
            "top": null,
            "grid_column": null,
            "overflow_y": null,
            "overflow_x": null,
            "grid_auto_flow": null,
            "grid_area": null,
            "grid_template_columns": null,
            "flex": null,
            "_model_name": "LayoutModel",
            "justify_items": null,
            "grid_row": null,
            "max_height": null,
            "align_content": null,
            "visibility": null,
            "align_self": null,
            "height": null,
            "min_height": null,
            "padding": null,
            "grid_auto_rows": null,
            "grid_gap": null,
            "max_width": null,
            "order": null,
            "_view_module_version": "1.2.0",
            "grid_template_areas": null,
            "object_position": null,
            "object_fit": null,
            "grid_auto_columns": null,
            "margin": null,
            "display": null,
            "left": null
          }
        },
        "857582c416584958b806d58300a8ef37": {
          "model_module": "@jupyter-widgets/controls",
          "model_name": "FloatProgressModel",
          "state": {
            "_view_name": "ProgressView",
            "style": "IPY_MODEL_c0e15a49234c47179717a00f3f6b185a",
            "_dom_classes": [],
            "description": "",
            "_model_name": "FloatProgressModel",
            "bar_style": "success",
            "max": 1,
            "_view_module": "@jupyter-widgets/controls",
            "_model_module_version": "1.5.0",
            "value": 1,
            "_view_count": null,
            "_view_module_version": "1.5.0",
            "orientation": "horizontal",
            "min": 0,
            "description_tooltip": null,
            "_model_module": "@jupyter-widgets/controls",
            "layout": "IPY_MODEL_bad651b04d774f52adf7a5a7a92750a1"
          }
        },
        "7bdc02917f9242fe930d5ab1af597a3f": {
          "model_module": "@jupyter-widgets/controls",
          "model_name": "HTMLModel",
          "state": {
            "_view_name": "HTMLView",
            "style": "IPY_MODEL_6f6f585389434190927345639aa305a8",
            "_dom_classes": [],
            "description": "",
            "_model_name": "HTMLModel",
            "placeholder": "​",
            "_view_module": "@jupyter-widgets/controls",
            "_model_module_version": "1.5.0",
            "value": " 1654784/? [00:04&lt;00:00, 345309.42it/s]",
            "_view_count": null,
            "_view_module_version": "1.5.0",
            "description_tooltip": null,
            "_model_module": "@jupyter-widgets/controls",
            "layout": "IPY_MODEL_35872284fddf4f21bea367681f7fcb1d"
          }
        },
        "c0e15a49234c47179717a00f3f6b185a": {
          "model_module": "@jupyter-widgets/controls",
          "model_name": "ProgressStyleModel",
          "state": {
            "_view_name": "StyleView",
            "_model_name": "ProgressStyleModel",
            "description_width": "initial",
            "_view_module": "@jupyter-widgets/base",
            "_model_module_version": "1.5.0",
            "_view_count": null,
            "_view_module_version": "1.2.0",
            "bar_color": null,
            "_model_module": "@jupyter-widgets/controls"
          }
        },
        "bad651b04d774f52adf7a5a7a92750a1": {
          "model_module": "@jupyter-widgets/base",
          "model_name": "LayoutModel",
          "state": {
            "_view_name": "LayoutView",
            "grid_template_rows": null,
            "right": null,
            "justify_content": null,
            "_view_module": "@jupyter-widgets/base",
            "overflow": null,
            "_model_module_version": "1.2.0",
            "_view_count": null,
            "flex_flow": null,
            "width": null,
            "min_width": null,
            "border": null,
            "align_items": null,
            "bottom": null,
            "_model_module": "@jupyter-widgets/base",
            "top": null,
            "grid_column": null,
            "overflow_y": null,
            "overflow_x": null,
            "grid_auto_flow": null,
            "grid_area": null,
            "grid_template_columns": null,
            "flex": null,
            "_model_name": "LayoutModel",
            "justify_items": null,
            "grid_row": null,
            "max_height": null,
            "align_content": null,
            "visibility": null,
            "align_self": null,
            "height": null,
            "min_height": null,
            "padding": null,
            "grid_auto_rows": null,
            "grid_gap": null,
            "max_width": null,
            "order": null,
            "_view_module_version": "1.2.0",
            "grid_template_areas": null,
            "object_position": null,
            "object_fit": null,
            "grid_auto_columns": null,
            "margin": null,
            "display": null,
            "left": null
          }
        },
        "6f6f585389434190927345639aa305a8": {
          "model_module": "@jupyter-widgets/controls",
          "model_name": "DescriptionStyleModel",
          "state": {
            "_view_name": "StyleView",
            "_model_name": "DescriptionStyleModel",
            "description_width": "",
            "_view_module": "@jupyter-widgets/base",
            "_model_module_version": "1.5.0",
            "_view_count": null,
            "_view_module_version": "1.2.0",
            "_model_module": "@jupyter-widgets/controls"
          }
        },
        "35872284fddf4f21bea367681f7fcb1d": {
          "model_module": "@jupyter-widgets/base",
          "model_name": "LayoutModel",
          "state": {
            "_view_name": "LayoutView",
            "grid_template_rows": null,
            "right": null,
            "justify_content": null,
            "_view_module": "@jupyter-widgets/base",
            "overflow": null,
            "_model_module_version": "1.2.0",
            "_view_count": null,
            "flex_flow": null,
            "width": null,
            "min_width": null,
            "border": null,
            "align_items": null,
            "bottom": null,
            "_model_module": "@jupyter-widgets/base",
            "top": null,
            "grid_column": null,
            "overflow_y": null,
            "overflow_x": null,
            "grid_auto_flow": null,
            "grid_area": null,
            "grid_template_columns": null,
            "flex": null,
            "_model_name": "LayoutModel",
            "justify_items": null,
            "grid_row": null,
            "max_height": null,
            "align_content": null,
            "visibility": null,
            "align_self": null,
            "height": null,
            "min_height": null,
            "padding": null,
            "grid_auto_rows": null,
            "grid_gap": null,
            "max_width": null,
            "order": null,
            "_view_module_version": "1.2.0",
            "grid_template_areas": null,
            "object_position": null,
            "object_fit": null,
            "grid_auto_columns": null,
            "margin": null,
            "display": null,
            "left": null
          }
        },
        "f517c82c44894936a0c9886831cdcc2f": {
          "model_module": "@jupyter-widgets/controls",
          "model_name": "HBoxModel",
          "state": {
            "_view_name": "HBoxView",
            "_dom_classes": [],
            "_model_name": "HBoxModel",
            "_view_module": "@jupyter-widgets/controls",
            "_model_module_version": "1.5.0",
            "_view_count": null,
            "_view_module_version": "1.5.0",
            "box_style": "",
            "layout": "IPY_MODEL_fd9902caaafd4b9faefe79ec0b78b413",
            "_model_module": "@jupyter-widgets/controls",
            "children": [
              "IPY_MODEL_86e5cd44c7e4439ca5bf2f78072b2253",
              "IPY_MODEL_9569e1ccb0d14957afd7f40b77623681"
            ]
          }
        },
        "fd9902caaafd4b9faefe79ec0b78b413": {
          "model_module": "@jupyter-widgets/base",
          "model_name": "LayoutModel",
          "state": {
            "_view_name": "LayoutView",
            "grid_template_rows": null,
            "right": null,
            "justify_content": null,
            "_view_module": "@jupyter-widgets/base",
            "overflow": null,
            "_model_module_version": "1.2.0",
            "_view_count": null,
            "flex_flow": null,
            "width": null,
            "min_width": null,
            "border": null,
            "align_items": null,
            "bottom": null,
            "_model_module": "@jupyter-widgets/base",
            "top": null,
            "grid_column": null,
            "overflow_y": null,
            "overflow_x": null,
            "grid_auto_flow": null,
            "grid_area": null,
            "grid_template_columns": null,
            "flex": null,
            "_model_name": "LayoutModel",
            "justify_items": null,
            "grid_row": null,
            "max_height": null,
            "align_content": null,
            "visibility": null,
            "align_self": null,
            "height": null,
            "min_height": null,
            "padding": null,
            "grid_auto_rows": null,
            "grid_gap": null,
            "max_width": null,
            "order": null,
            "_view_module_version": "1.2.0",
            "grid_template_areas": null,
            "object_position": null,
            "object_fit": null,
            "grid_auto_columns": null,
            "margin": null,
            "display": null,
            "left": null
          }
        },
        "86e5cd44c7e4439ca5bf2f78072b2253": {
          "model_module": "@jupyter-widgets/controls",
          "model_name": "FloatProgressModel",
          "state": {
            "_view_name": "ProgressView",
            "style": "IPY_MODEL_45dee202b1324ceab4d9dcf1191bd1d3",
            "_dom_classes": [],
            "description": "",
            "_model_name": "FloatProgressModel",
            "bar_style": "success",
            "max": 1,
            "_view_module": "@jupyter-widgets/controls",
            "_model_module_version": "1.5.0",
            "value": 1,
            "_view_count": null,
            "_view_module_version": "1.5.0",
            "orientation": "horizontal",
            "min": 0,
            "description_tooltip": null,
            "_model_module": "@jupyter-widgets/controls",
            "layout": "IPY_MODEL_3ff354dfa27f4e958157d4e382f3574a"
          }
        },
        "9569e1ccb0d14957afd7f40b77623681": {
          "model_module": "@jupyter-widgets/controls",
          "model_name": "HTMLModel",
          "state": {
            "_view_name": "HTMLView",
            "style": "IPY_MODEL_d0b8f4bf0842467f8c1b6366f0f5b66a",
            "_dom_classes": [],
            "description": "",
            "_model_name": "HTMLModel",
            "placeholder": "​",
            "_view_module": "@jupyter-widgets/controls",
            "_model_module_version": "1.5.0",
            "value": " 8192/? [00:03&lt;00:00, 2634.02it/s]",
            "_view_count": null,
            "_view_module_version": "1.5.0",
            "description_tooltip": null,
            "_model_module": "@jupyter-widgets/controls",
            "layout": "IPY_MODEL_19428d0f3612495b863e72b055a62678"
          }
        },
        "45dee202b1324ceab4d9dcf1191bd1d3": {
          "model_module": "@jupyter-widgets/controls",
          "model_name": "ProgressStyleModel",
          "state": {
            "_view_name": "StyleView",
            "_model_name": "ProgressStyleModel",
            "description_width": "initial",
            "_view_module": "@jupyter-widgets/base",
            "_model_module_version": "1.5.0",
            "_view_count": null,
            "_view_module_version": "1.2.0",
            "bar_color": null,
            "_model_module": "@jupyter-widgets/controls"
          }
        },
        "3ff354dfa27f4e958157d4e382f3574a": {
          "model_module": "@jupyter-widgets/base",
          "model_name": "LayoutModel",
          "state": {
            "_view_name": "LayoutView",
            "grid_template_rows": null,
            "right": null,
            "justify_content": null,
            "_view_module": "@jupyter-widgets/base",
            "overflow": null,
            "_model_module_version": "1.2.0",
            "_view_count": null,
            "flex_flow": null,
            "width": null,
            "min_width": null,
            "border": null,
            "align_items": null,
            "bottom": null,
            "_model_module": "@jupyter-widgets/base",
            "top": null,
            "grid_column": null,
            "overflow_y": null,
            "overflow_x": null,
            "grid_auto_flow": null,
            "grid_area": null,
            "grid_template_columns": null,
            "flex": null,
            "_model_name": "LayoutModel",
            "justify_items": null,
            "grid_row": null,
            "max_height": null,
            "align_content": null,
            "visibility": null,
            "align_self": null,
            "height": null,
            "min_height": null,
            "padding": null,
            "grid_auto_rows": null,
            "grid_gap": null,
            "max_width": null,
            "order": null,
            "_view_module_version": "1.2.0",
            "grid_template_areas": null,
            "object_position": null,
            "object_fit": null,
            "grid_auto_columns": null,
            "margin": null,
            "display": null,
            "left": null
          }
        },
        "d0b8f4bf0842467f8c1b6366f0f5b66a": {
          "model_module": "@jupyter-widgets/controls",
          "model_name": "DescriptionStyleModel",
          "state": {
            "_view_name": "StyleView",
            "_model_name": "DescriptionStyleModel",
            "description_width": "",
            "_view_module": "@jupyter-widgets/base",
            "_model_module_version": "1.5.0",
            "_view_count": null,
            "_view_module_version": "1.2.0",
            "_model_module": "@jupyter-widgets/controls"
          }
        },
        "19428d0f3612495b863e72b055a62678": {
          "model_module": "@jupyter-widgets/base",
          "model_name": "LayoutModel",
          "state": {
            "_view_name": "LayoutView",
            "grid_template_rows": null,
            "right": null,
            "justify_content": null,
            "_view_module": "@jupyter-widgets/base",
            "overflow": null,
            "_model_module_version": "1.2.0",
            "_view_count": null,
            "flex_flow": null,
            "width": null,
            "min_width": null,
            "border": null,
            "align_items": null,
            "bottom": null,
            "_model_module": "@jupyter-widgets/base",
            "top": null,
            "grid_column": null,
            "overflow_y": null,
            "overflow_x": null,
            "grid_auto_flow": null,
            "grid_area": null,
            "grid_template_columns": null,
            "flex": null,
            "_model_name": "LayoutModel",
            "justify_items": null,
            "grid_row": null,
            "max_height": null,
            "align_content": null,
            "visibility": null,
            "align_self": null,
            "height": null,
            "min_height": null,
            "padding": null,
            "grid_auto_rows": null,
            "grid_gap": null,
            "max_width": null,
            "order": null,
            "_view_module_version": "1.2.0",
            "grid_template_areas": null,
            "object_position": null,
            "object_fit": null,
            "grid_auto_columns": null,
            "margin": null,
            "display": null,
            "left": null
          }
        }
      }
    }
  },
  "cells": [
    {
      "cell_type": "markdown",
      "metadata": {
        "id": "view-in-github",
        "colab_type": "text"
      },
      "source": [
        "<a href=\"https://colab.research.google.com/github/diego1401/CSE303/blob/main/CSE303_week1.ipynb\" target=\"_parent\"><img src=\"https://colab.research.google.com/assets/colab-badge.svg\" alt=\"Open In Colab\"/></a>"
      ]
    },
    {
      "cell_type": "markdown",
      "metadata": {
        "id": "g8pPHIwIXWPJ"
      },
      "source": [
        "### **WEEK 1**\n",
        "\n",
        "---\n",
        "\n"
      ]
    },
    {
      "cell_type": "markdown",
      "metadata": {
        "id": "MBQ7vkvSVyyC"
      },
      "source": [
        "## **Part 1**"
      ]
    },
    {
      "cell_type": "code",
      "metadata": {
        "id": "es03PbnYUgdY"
      },
      "source": [
        "import torch"
      ],
      "execution_count": null,
      "outputs": []
    },
    {
      "cell_type": "code",
      "metadata": {
        "id": "AcFH-qTUVeeW",
        "outputId": "cc8d7d17-f67f-474c-e0a6-a9cf992892e6",
        "colab": {
          "base_uri": "https://localhost:8080/",
          "height": 85
        }
      },
      "source": [
        "x = torch.rand((2,5))\n",
        "\n",
        "#why does he say there is no reshape?\n",
        "print(x.view((1,10)))\n",
        "print(x.reshape(1,10))"
      ],
      "execution_count": null,
      "outputs": [
        {
          "output_type": "stream",
          "text": [
            "tensor([[0.5378, 0.1248, 0.0465, 0.0350, 0.1308, 0.3201, 0.5654, 0.0291, 0.4956,\n",
            "         0.4683]])\n",
            "tensor([[0.5378, 0.1248, 0.0465, 0.0350, 0.1308, 0.3201, 0.5654, 0.0291, 0.4956,\n",
            "         0.4683]])\n"
          ],
          "name": "stdout"
        }
      ]
    },
    {
      "cell_type": "markdown",
      "metadata": {
        "id": "2CELhjiVYhf-"
      },
      "source": [
        "## **Part 2**\n",
        "\n",
        "\n",
        "\n"
      ]
    },
    {
      "cell_type": "code",
      "metadata": {
        "id": "ndBLDf56YO3-"
      },
      "source": [
        "\n",
        "import torchvision\n",
        "from torchvision import transforms, datasets"
      ],
      "execution_count": null,
      "outputs": []
    },
    {
      "cell_type": "code",
      "metadata": {
        "id": "VpTCopHNZQqH",
        "outputId": "9417cc8f-68ec-432a-a977-a3a1e68e9561",
        "colab": {
          "base_uri": "https://localhost:8080/",
          "height": 369,
          "referenced_widgets": [
            "fc5d6cd75b054d93b63cd77368f8a37f",
            "7a60990726b74e99934f954b516066a4",
            "d1e55e7bc1ce4fc9859f06eece1bcae1",
            "38247aeb672a4d7090c282d407a52545",
            "5514e90e642946de9194c09cb9bf802c",
            "9251e3f58ecc43e4b25ac61b66d4811c",
            "832b994b78944f258b7a2313cb75061a",
            "76587903e413474d8d6db9c3e600ef12",
            "d8eaa805a2014f35911b115470b353fc",
            "0c14bce0f3464243b3e0c3f7e63c6317",
            "ae0e7da528da4d52a8b679d5824d6b19",
            "6b013247e6c045259946275665e3df0e",
            "8db7dfc3f5df4116b19c5fb55511bcf1",
            "e21087fb229e43598c72ea25c1dddf5a",
            "0702535880be4d44bab154bd6e413430",
            "abcbe860de6c44e0a90d93997844b649",
            "dba1627d8a1c43a484391189d959f10c",
            "a94dbfb364f54fb2b220141e8361a3db",
            "857582c416584958b806d58300a8ef37",
            "7bdc02917f9242fe930d5ab1af597a3f",
            "c0e15a49234c47179717a00f3f6b185a",
            "bad651b04d774f52adf7a5a7a92750a1",
            "6f6f585389434190927345639aa305a8",
            "35872284fddf4f21bea367681f7fcb1d",
            "f517c82c44894936a0c9886831cdcc2f",
            "fd9902caaafd4b9faefe79ec0b78b413",
            "86e5cd44c7e4439ca5bf2f78072b2253",
            "9569e1ccb0d14957afd7f40b77623681",
            "45dee202b1324ceab4d9dcf1191bd1d3",
            "3ff354dfa27f4e958157d4e382f3574a",
            "d0b8f4bf0842467f8c1b6366f0f5b66a",
            "19428d0f3612495b863e72b055a62678"
          ]
        }
      },
      "source": [
        "train = datasets.MNIST(\"\",train=True,download=True,\n",
        "                       transform=transforms.Compose([transforms.ToTensor()]))\n",
        "\n",
        "test = datasets.MNIST(\"\",train=False,download=True,\n",
        "                       transform=transforms.Compose([transforms.ToTensor()]))"
      ],
      "execution_count": null,
      "outputs": [
        {
          "output_type": "stream",
          "text": [
            "Downloading http://yann.lecun.com/exdb/mnist/train-images-idx3-ubyte.gz to MNIST/raw/train-images-idx3-ubyte.gz\n"
          ],
          "name": "stdout"
        },
        {
          "output_type": "display_data",
          "data": {
            "application/vnd.jupyter.widget-view+json": {
              "model_id": "fc5d6cd75b054d93b63cd77368f8a37f",
              "version_minor": 0,
              "version_major": 2
            },
            "text/plain": [
              "HBox(children=(FloatProgress(value=1.0, bar_style='info', max=1.0), HTML(value='')))"
            ]
          },
          "metadata": {
            "tags": []
          }
        },
        {
          "output_type": "stream",
          "text": [
            "Extracting MNIST/raw/train-images-idx3-ubyte.gz to MNIST/raw\n",
            "Downloading http://yann.lecun.com/exdb/mnist/train-labels-idx1-ubyte.gz to MNIST/raw/train-labels-idx1-ubyte.gz\n"
          ],
          "name": "stdout"
        },
        {
          "output_type": "display_data",
          "data": {
            "application/vnd.jupyter.widget-view+json": {
              "model_id": "d8eaa805a2014f35911b115470b353fc",
              "version_minor": 0,
              "version_major": 2
            },
            "text/plain": [
              "HBox(children=(FloatProgress(value=1.0, bar_style='info', max=1.0), HTML(value='')))"
            ]
          },
          "metadata": {
            "tags": []
          }
        },
        {
          "output_type": "stream",
          "text": [
            "Extracting MNIST/raw/train-labels-idx1-ubyte.gz to MNIST/raw\n",
            "Downloading http://yann.lecun.com/exdb/mnist/t10k-images-idx3-ubyte.gz to MNIST/raw/t10k-images-idx3-ubyte.gz\n"
          ],
          "name": "stdout"
        },
        {
          "output_type": "display_data",
          "data": {
            "application/vnd.jupyter.widget-view+json": {
              "model_id": "dba1627d8a1c43a484391189d959f10c",
              "version_minor": 0,
              "version_major": 2
            },
            "text/plain": [
              "HBox(children=(FloatProgress(value=1.0, bar_style='info', max=1.0), HTML(value='')))"
            ]
          },
          "metadata": {
            "tags": []
          }
        },
        {
          "output_type": "stream",
          "text": [
            "Extracting MNIST/raw/t10k-images-idx3-ubyte.gz to MNIST/raw\n",
            "Downloading http://yann.lecun.com/exdb/mnist/t10k-labels-idx1-ubyte.gz to MNIST/raw/t10k-labels-idx1-ubyte.gz\n"
          ],
          "name": "stdout"
        },
        {
          "output_type": "display_data",
          "data": {
            "application/vnd.jupyter.widget-view+json": {
              "model_id": "f517c82c44894936a0c9886831cdcc2f",
              "version_minor": 0,
              "version_major": 2
            },
            "text/plain": [
              "HBox(children=(FloatProgress(value=1.0, bar_style='info', max=1.0), HTML(value='')))"
            ]
          },
          "metadata": {
            "tags": []
          }
        },
        {
          "output_type": "stream",
          "text": [
            "Extracting MNIST/raw/t10k-labels-idx1-ubyte.gz to MNIST/raw\n",
            "Processing...\n",
            "Done!\n"
          ],
          "name": "stdout"
        },
        {
          "output_type": "stream",
          "text": [
            "/usr/local/lib/python3.6/dist-packages/torchvision/datasets/mnist.py:469: UserWarning: The given NumPy array is not writeable, and PyTorch does not support non-writeable tensors. This means you can write to the underlying (supposedly non-writeable) NumPy array using the tensor. You may want to copy the array to protect its data or make it writeable before converting it to a tensor. This type of warning will be suppressed for the rest of this program. (Triggered internally at  /pytorch/torch/csrc/utils/tensor_numpy.cpp:141.)\n",
            "  return torch.from_numpy(parsed.astype(m[2], copy=False)).view(*s)\n"
          ],
          "name": "stderr"
        }
      ]
    },
    {
      "cell_type": "code",
      "metadata": {
        "id": "bkkWtIeZ8FAQ",
        "outputId": "cff8668c-c3f3-4bd8-a911-d97a0925706d",
        "colab": {
          "base_uri": "https://localhost:8080/",
          "height": 136
        }
      },
      "source": [
        "a = [1,2,3,4]\n",
        "b = torch.utils.data.DataLoader(a)\n",
        "#we see that torch.utils.data.Dataloader puts the elements of a list into tensors\n",
        "for i in b:\n",
        "  print(i)"
      ],
      "execution_count": null,
      "outputs": [
        {
          "output_type": "stream",
          "text": [
            "tensor([1])\n",
            "tensor([2])\n",
            "tensor([3])\n",
            "\n",
            "\n",
            "\n",
            "tensor([4])\n"
          ],
          "name": "stdout"
        }
      ]
    },
    {
      "cell_type": "code",
      "metadata": {
        "id": "2zQR0GIPaJeD"
      },
      "source": [
        "# We are careful to set shuffle to True, avoid ordered data\n",
        "trainset = torch.utils.data.DataLoader(train, batch_size=10,shuffle=True)\n",
        "testset = torch.utils.data.DataLoader(test, batch_size=10,shuffle=True)"
      ],
      "execution_count": null,
      "outputs": []
    },
    {
      "cell_type": "code",
      "metadata": {
        "id": "BegJ0oX0aqu4",
        "outputId": "d0dcdf60-16fa-4d23-d05e-0d413f36626e",
        "colab": {
          "base_uri": "https://localhost:8080/",
          "height": 952
        }
      },
      "source": [
        "for data in trainset:\n",
        "  print(data)\n",
        "  break"
      ],
      "execution_count": null,
      "outputs": [
        {
          "output_type": "stream",
          "text": [
            "[tensor([[[[0., 0., 0.,  ..., 0., 0., 0.],\n",
            "          [0., 0., 0.,  ..., 0., 0., 0.],\n",
            "          [0., 0., 0.,  ..., 0., 0., 0.],\n",
            "          ...,\n",
            "          [0., 0., 0.,  ..., 0., 0., 0.],\n",
            "          [0., 0., 0.,  ..., 0., 0., 0.],\n",
            "          [0., 0., 0.,  ..., 0., 0., 0.]]],\n",
            "\n",
            "\n",
            "        [[[0., 0., 0.,  ..., 0., 0., 0.],\n",
            "          [0., 0., 0.,  ..., 0., 0., 0.],\n",
            "          [0., 0., 0.,  ..., 0., 0., 0.],\n",
            "          ...,\n",
            "          [0., 0., 0.,  ..., 0., 0., 0.],\n",
            "          [0., 0., 0.,  ..., 0., 0., 0.],\n",
            "          [0., 0., 0.,  ..., 0., 0., 0.]]],\n",
            "\n",
            "\n",
            "        [[[0., 0., 0.,  ..., 0., 0., 0.],\n",
            "          [0., 0., 0.,  ..., 0., 0., 0.],\n",
            "          [0., 0., 0.,  ..., 0., 0., 0.],\n",
            "          ...,\n",
            "          [0., 0., 0.,  ..., 0., 0., 0.],\n",
            "          [0., 0., 0.,  ..., 0., 0., 0.],\n",
            "          [0., 0., 0.,  ..., 0., 0., 0.]]],\n",
            "\n",
            "\n",
            "        ...,\n",
            "\n",
            "\n",
            "        [[[0., 0., 0.,  ..., 0., 0., 0.],\n",
            "          [0., 0., 0.,  ..., 0., 0., 0.],\n",
            "          [0., 0., 0.,  ..., 0., 0., 0.],\n",
            "          ...,\n",
            "          [0., 0., 0.,  ..., 0., 0., 0.],\n",
            "          [0., 0., 0.,  ..., 0., 0., 0.],\n",
            "          [0., 0., 0.,  ..., 0., 0., 0.]]],\n",
            "\n",
            "\n",
            "        [[[0., 0., 0.,  ..., 0., 0., 0.],\n",
            "          [0., 0., 0.,  ..., 0., 0., 0.],\n",
            "          [0., 0., 0.,  ..., 0., 0., 0.],\n",
            "          ...,\n",
            "          [0., 0., 0.,  ..., 0., 0., 0.],\n",
            "          [0., 0., 0.,  ..., 0., 0., 0.],\n",
            "          [0., 0., 0.,  ..., 0., 0., 0.]]],\n",
            "\n",
            "\n",
            "        [[[0., 0., 0.,  ..., 0., 0., 0.],\n",
            "          [0., 0., 0.,  ..., 0., 0., 0.],\n",
            "          [0., 0., 0.,  ..., 0., 0., 0.],\n",
            "          ...,\n",
            "          [0., 0., 0.,  ..., 0., 0., 0.],\n",
            "          [0., 0., 0.,  ..., 0., 0., 0.],\n",
            "          [0., 0., 0.,  ..., 0., 0., 0.]]]]), tensor([5, 9, 0, 4, 9, 7, 0, 3, 3, 7])]\n"
          ],
          "name": "stdout"
        }
      ]
    },
    {
      "cell_type": "code",
      "metadata": {
        "id": "X6wIkr4Db6-D"
      },
      "source": [
        "x,y = data[0][0],data[1][0]"
      ],
      "execution_count": null,
      "outputs": []
    },
    {
      "cell_type": "code",
      "metadata": {
        "id": "oUxsU1vwcEna",
        "outputId": "7c0faa7d-5ae0-422b-83ec-fb6ae5f27fc4",
        "colab": {
          "base_uri": "https://localhost:8080/",
          "height": 265
        }
      },
      "source": [
        "import matplotlib.pyplot as plt\n",
        "plt.imshow(x.reshape(28,28))\n",
        "plt.show()"
      ],
      "execution_count": null,
      "outputs": [
        {
          "output_type": "display_data",
          "data": {
            "image/png": "[encoded data removed]",
            "text/plain": [
              "<Figure size 432x288 with 1 Axes>"
            ]
          },
          "metadata": {
            "tags": [],
            "needs_background": "light"
          }
        }
      ]
    },
    {
      "cell_type": "code",
      "metadata": {
        "id": "xU1KSCF39Ugb",
        "outputId": "a673ec1e-c8bc-4f16-9c9e-53bec7590a74",
        "colab": {
          "base_uri": "https://localhost:8080/",
          "height": 34
        }
      },
      "source": [
        "print(y)"
      ],
      "execution_count": null,
      "outputs": [
        {
          "output_type": "stream",
          "text": [
            "tensor(5)\n"
          ],
          "name": "stdout"
        }
      ]
    },
    {
      "cell_type": "code",
      "metadata": {
        "id": "0yJcgwSMcLr2",
        "outputId": "df2023d6-4abf-412d-cc13-beb8381c0142",
        "colab": {
          "base_uri": "https://localhost:8080/",
          "height": 34
        }
      },
      "source": [
        "#We always want to check for the BALANCE of the dataset\n",
        "total = 0\n",
        "counter_dict = {0:0,1:0,2:0,3:0,4:0,5:0,6:0,7:0,8:0,9:0}\n",
        "for data in trainset:\n",
        "  Xs, ys = data\n",
        "  for y in ys:\n",
        "    counter_dict[(int(y))] +=1\n",
        "    total +=1\n",
        "print(counter_dict)"
      ],
      "execution_count": null,
      "outputs": [
        {
          "output_type": "stream",
          "text": [
            "{0: 5923, 1: 6742, 2: 5958, 3: 6131, 4: 5842, 5: 5421, 6: 5918, 7: 6265, 8: 5851, 9: 5949}\n"
          ],
          "name": "stdout"
        }
      ]
    },
    {
      "cell_type": "code",
      "metadata": {
        "id": "7M8J0MkiddQp",
        "outputId": "cb0b2c5b-c90e-439e-8840-8fbc2f44bae9",
        "colab": {
          "base_uri": "https://localhost:8080/",
          "height": 187
        }
      },
      "source": [
        "for i in counter_dict:\n",
        "  print(f\"{i}:{counter_dict[i]/total*100}\")"
      ],
      "execution_count": null,
      "outputs": [
        {
          "output_type": "stream",
          "text": [
            "0:9.871666666666666\n",
            "1:11.236666666666666\n",
            "2:9.93\n",
            "3:10.218333333333334\n",
            "4:9.736666666666666\n",
            "5:9.035\n",
            "6:9.863333333333333\n",
            "7:10.441666666666666\n",
            "8:9.751666666666667\n",
            "9:9.915000000000001\n"
          ],
          "name": "stdout"
        }
      ]
    },
    {
      "cell_type": "markdown",
      "metadata": {
        "id": "gm1CiDICekJn"
      },
      "source": [
        "## **Part 3**"
      ]
    },
    {
      "cell_type": "code",
      "metadata": {
        "id": "TnXa4GgfeAdW"
      },
      "source": [
        "import torch.nn as nn\n",
        "import torch.nn.functional as F\n"
      ],
      "execution_count": null,
      "outputs": []
    },
    {
      "cell_type": "code",
      "metadata": {
        "id": "4Y6vAQI99znz"
      },
      "source": [
        "#torch.relu for nn.sequetial it creates a nn.Module"
      ],
      "execution_count": null,
      "outputs": []
    },
    {
      "cell_type": "code",
      "metadata": {
        "id": "Fx3g1DEVfmQn",
        "outputId": "9166ffa4-98f2-4ad5-9d7a-f4f0ccd0e58b",
        "colab": {
          "base_uri": "https://localhost:8080/",
          "height": 119
        }
      },
      "source": [
        "class Net(nn.Module):\n",
        "  def __init__(self):\n",
        "    super().__init__() #super inherit methods and attributes of nn.Module\n",
        "\n",
        "    #layers\n",
        "    self.fc1 = nn.Linear(28*28, 64) #28*28 bc flatten, 64 is arbitrary\n",
        "    self.fc2 = nn.Linear(64, 64)\n",
        "    self.fc3 = nn.Linear(64, 64)\n",
        "    self.fc4 = nn.Linear(64, 10) #10 as output as there are 10 classes\n",
        "\n",
        "\n",
        "  def forward(self, x):\n",
        "    #We can apply logic to this (if,else,...)\n",
        "    x = F.relu(self.fc1(x))\n",
        "    x = F.relu(self.fc2(x))\n",
        "    x = F.relu(self.fc3(x))\n",
        "    x = self.fc4(x)\n",
        "\n",
        "\n",
        "\n",
        "    return F.log_softmax(x,dim=1) \n",
        "\n",
        "#to get a probabilistic result, dim=1 bc\n",
        "#we want the classes to sum to 1, not the batches\n",
        "net = Net()\n",
        "print(net)\n"
      ],
      "execution_count": null,
      "outputs": [
        {
          "output_type": "stream",
          "text": [
            "Net(\n",
            "  (fc1): Linear(in_features=784, out_features=64, bias=True)\n",
            "  (fc2): Linear(in_features=64, out_features=64, bias=True)\n",
            "  (fc3): Linear(in_features=64, out_features=64, bias=True)\n",
            "  (fc4): Linear(in_features=64, out_features=10, bias=True)\n",
            ")\n"
          ],
          "name": "stdout"
        }
      ]
    },
    {
      "cell_type": "code",
      "metadata": {
        "id": "sfBZJLewiCfZ"
      },
      "source": [
        "X = torch.rand((28,28)).reshape(1,784) # -1 to specify an unknown size\n",
        "output = net(X)"
      ],
      "execution_count": null,
      "outputs": []
    },
    {
      "cell_type": "code",
      "metadata": {
        "id": "VPfbot0IilEv",
        "outputId": "dd81de3f-195e-4f54-8439-a283bda0d557",
        "colab": {
          "base_uri": "https://localhost:8080/",
          "height": 51
        }
      },
      "source": [
        "output"
      ],
      "execution_count": null,
      "outputs": [
        {
          "output_type": "execute_result",
          "data": {
            "text/plain": [
              "tensor([[-2.4620, -2.3681, -2.2167, -2.2719, -2.2247, -2.2513, -2.2332, -2.3686,\n",
              "         -2.3163, -2.3413]], grad_fn=<LogSoftmaxBackward>)"
            ]
          },
          "metadata": {
            "tags": []
          },
          "execution_count": 18
        }
      ]
    },
    {
      "cell_type": "code",
      "metadata": {
        "id": "wzoWbkZWkq3D",
        "outputId": "acd9a010-542b-4640-d013-6ba2147c10f4",
        "colab": {
          "base_uri": "https://localhost:8080/",
          "height": 1000
        }
      },
      "source": [
        "print(list(net.parameters()))"
      ],
      "execution_count": null,
      "outputs": [
        {
          "output_type": "stream",
          "text": [
            "[Parameter containing:\n",
            "tensor([[ 0.0098, -0.0291,  0.0132,  ..., -0.0138, -0.0047,  0.0172],\n",
            "        [-0.0082,  0.0284,  0.0032,  ..., -0.0342,  0.0083, -0.0173],\n",
            "        [ 0.0185,  0.0235, -0.0004,  ...,  0.0244, -0.0322, -0.0117],\n",
            "        ...,\n",
            "        [-0.0319, -0.0241,  0.0340,  ..., -0.0135, -0.0230, -0.0034],\n",
            "        [ 0.0145, -0.0063,  0.0337,  ...,  0.0276,  0.0199, -0.0262],\n",
            "        [ 0.0045, -0.0175, -0.0339,  ...,  0.0195,  0.0319, -0.0300]],\n",
            "       requires_grad=True), Parameter containing:\n",
            "tensor([-0.0165, -0.0242,  0.0124, -0.0042,  0.0189, -0.0305, -0.0096,  0.0295,\n",
            "        -0.0325, -0.0029,  0.0156,  0.0340, -0.0152, -0.0271,  0.0042,  0.0239,\n",
            "         0.0280,  0.0322, -0.0356,  0.0287, -0.0067,  0.0169,  0.0242, -0.0260,\n",
            "         0.0156, -0.0064, -0.0257,  0.0021,  0.0104,  0.0126,  0.0070, -0.0142,\n",
            "         0.0102, -0.0162, -0.0081, -0.0192,  0.0138, -0.0283,  0.0260, -0.0046,\n",
            "         0.0164, -0.0181,  0.0174, -0.0287, -0.0094, -0.0103, -0.0242, -0.0149,\n",
            "         0.0210, -0.0172, -0.0273, -0.0344,  0.0121, -0.0287,  0.0072,  0.0283,\n",
            "        -0.0136,  0.0106, -0.0142,  0.0158, -0.0205, -0.0094,  0.0125, -0.0267],\n",
            "       requires_grad=True), Parameter containing:\n",
            "tensor([[ 0.0428,  0.0456, -0.0985,  ..., -0.1075,  0.0321,  0.0379],\n",
            "        [-0.0137, -0.0630,  0.0888,  ..., -0.0284,  0.0953, -0.1073],\n",
            "        [-0.0771,  0.0923, -0.0219,  ..., -0.0855,  0.0777, -0.0100],\n",
            "        ...,\n",
            "        [-0.0861,  0.0926,  0.0856,  ..., -0.0442,  0.0850, -0.1247],\n",
            "        [ 0.0131, -0.0188,  0.0580,  ..., -0.0374,  0.0070, -0.1250],\n",
            "        [-0.1041,  0.0378, -0.0131,  ...,  0.0371, -0.1204, -0.0831]],\n",
            "       requires_grad=True), Parameter containing:\n",
            "tensor([-0.0902,  0.0498, -0.0355,  0.0762, -0.0974,  0.1140, -0.0674, -0.1150,\n",
            "         0.0634,  0.0567, -0.0105, -0.0347,  0.0731, -0.0852,  0.0868, -0.0228,\n",
            "         0.0739,  0.0126,  0.0963, -0.0563,  0.0281,  0.0458, -0.0241, -0.0404,\n",
            "        -0.0560,  0.0433, -0.0670,  0.0310,  0.0328, -0.0737, -0.0571, -0.0696,\n",
            "        -0.0100,  0.0007, -0.0356,  0.0152,  0.0575,  0.0846,  0.0769,  0.1216,\n",
            "         0.1175,  0.0665,  0.0086, -0.0864, -0.0555,  0.0354,  0.0906,  0.1072,\n",
            "         0.0933,  0.0709,  0.0288, -0.0434,  0.1245, -0.0441,  0.0587,  0.0901,\n",
            "        -0.0491,  0.0115,  0.0971,  0.0572, -0.1215, -0.0195, -0.0058,  0.0186],\n",
            "       requires_grad=True), Parameter containing:\n",
            "tensor([[ 0.0890, -0.0495, -0.0447,  ...,  0.0603, -0.0455,  0.0199],\n",
            "        [-0.0118, -0.0120, -0.0145,  ..., -0.0074, -0.1074, -0.0945],\n",
            "        [-0.0498, -0.0227, -0.0560,  ...,  0.0123, -0.0554,  0.0366],\n",
            "        ...,\n",
            "        [ 0.1109, -0.0680, -0.0836,  ..., -0.0151,  0.0282, -0.0236],\n",
            "        [-0.0225,  0.1236,  0.0623,  ...,  0.0393,  0.1216,  0.0003],\n",
            "        [-0.0076,  0.0482, -0.1159,  ..., -0.0977,  0.0392,  0.0939]],\n",
            "       requires_grad=True), Parameter containing:\n",
            "tensor([ 0.0831, -0.0548, -0.0327, -0.0550, -0.0315, -0.0160, -0.0902,  0.0780,\n",
            "        -0.0458, -0.0510, -0.1243, -0.1078,  0.0290, -0.1033,  0.0704,  0.0404,\n",
            "        -0.0789, -0.0051,  0.0487, -0.0946, -0.0558,  0.0464, -0.0312, -0.0595,\n",
            "        -0.0289,  0.0666, -0.0606,  0.1202,  0.0165,  0.1211, -0.0304, -0.0523,\n",
            "        -0.0631, -0.0204,  0.1135,  0.0711,  0.0740,  0.0619,  0.1033,  0.0294,\n",
            "         0.0952,  0.1246, -0.0779, -0.0680, -0.0188,  0.0886,  0.0522, -0.0336,\n",
            "        -0.0898,  0.0846, -0.1134, -0.0149, -0.0209,  0.0915, -0.1141,  0.1083,\n",
            "        -0.0084, -0.1142,  0.0678, -0.0058,  0.0319,  0.0068,  0.1173,  0.0424],\n",
            "       requires_grad=True), Parameter containing:\n",
            "tensor([[ 3.3149e-02,  1.8016e-02,  6.4550e-02,  5.7764e-02,  1.3598e-02,\n",
            "         -4.1514e-03,  3.7866e-03, -2.8180e-02, -9.7904e-02, -3.3684e-02,\n",
            "         -4.6648e-03, -8.8570e-02, -3.6214e-02, -5.9679e-02,  5.8191e-02,\n",
            "         -1.4413e-02, -1.2084e-01, -2.3843e-02, -5.1201e-02, -1.1016e-01,\n",
            "         -7.8561e-02, -1.2039e-01,  1.1080e-01, -1.2167e-01,  1.0804e-01,\n",
            "         -8.8670e-02,  9.5206e-02, -8.5035e-02,  4.3838e-02,  9.1064e-02,\n",
            "          1.5304e-02, -6.9543e-02, -9.4793e-02,  2.7080e-02, -1.0479e-01,\n",
            "         -1.2392e-01,  4.4545e-02, -9.5132e-02,  9.1410e-02, -8.6804e-02,\n",
            "         -1.1396e-01, -6.1025e-02, -1.8115e-02, -3.0684e-02,  8.0845e-02,\n",
            "         -7.7184e-02, -4.6219e-03,  9.4107e-02, -5.6374e-02, -2.6323e-02,\n",
            "          1.2267e-01,  3.8801e-02, -1.0750e-01, -1.1066e-01, -1.0693e-01,\n",
            "          7.5426e-02,  1.0799e-01,  1.1099e-01, -5.1939e-02,  1.0814e-01,\n",
            "          1.0414e-01,  1.6851e-02,  1.2164e-01, -3.8499e-02],\n",
            "        [-3.4780e-02,  1.7705e-02, -3.9938e-02,  2.8427e-02, -5.0567e-04,\n",
            "         -4.1262e-02,  9.1338e-02,  8.4793e-02, -6.4769e-02, -4.1687e-02,\n",
            "         -5.8715e-02, -1.0662e-01, -1.0258e-01,  6.5453e-02, -2.3914e-02,\n",
            "          6.4087e-02,  1.1416e-01, -5.4514e-02, -5.1962e-02, -2.7397e-02,\n",
            "          6.1921e-02,  5.4168e-02,  2.6845e-02,  9.2111e-02, -1.2177e-01,\n",
            "          3.3780e-02, -9.1512e-02,  1.6620e-02,  8.7342e-02, -8.6550e-02,\n",
            "         -6.7556e-02,  8.4030e-02, -2.0063e-02,  1.9155e-02,  5.9796e-02,\n",
            "         -6.7581e-02,  5.3874e-02,  7.6367e-02, -1.0717e-01, -9.2793e-02,\n",
            "         -1.1576e-01,  7.3466e-03, -3.6959e-02,  1.0028e-01,  4.5474e-02,\n",
            "          1.1467e-01, -7.8096e-02, -5.9010e-02, -7.0964e-02,  9.5043e-02,\n",
            "         -1.0742e-01,  1.0694e-01, -4.5605e-02,  2.9440e-02, -4.2857e-02,\n",
            "         -4.2539e-02,  4.6034e-03,  1.8644e-02, -1.0825e-01, -7.9248e-03,\n",
            "         -4.3928e-02, -1.8710e-02, -6.2353e-02, -9.0422e-03],\n",
            "        [-1.0053e-01,  6.6367e-02,  7.9072e-02, -2.6061e-02,  9.3463e-02,\n",
            "         -1.4240e-02,  6.8044e-02,  6.5256e-02,  4.4849e-02,  8.0137e-02,\n",
            "         -2.8561e-02,  2.1506e-02,  7.3019e-02, -1.1792e-01,  7.4834e-02,\n",
            "          9.1017e-02,  3.8375e-02,  6.6676e-02, -4.7927e-03, -4.7177e-02,\n",
            "         -1.0789e-01, -1.1130e-01, -3.5163e-02,  2.4941e-02,  1.6555e-02,\n",
            "         -3.9289e-02,  1.1413e-01,  6.8636e-02, -2.3445e-04,  5.5336e-02,\n",
            "          4.6966e-02,  1.0743e-01, -6.5139e-02, -1.1506e-01,  1.0714e-01,\n",
            "          2.5408e-02, -1.1023e-01, -1.1321e-01, -9.9745e-02,  7.1670e-02,\n",
            "          1.0640e-01,  2.9926e-02, -7.6511e-03, -1.2243e-01,  3.9082e-02,\n",
            "          4.3195e-02,  8.4461e-02, -3.2609e-02, -9.3789e-02,  2.6287e-03,\n",
            "          8.2244e-03, -3.0331e-02, -1.2003e-01, -8.0152e-02,  2.3973e-02,\n",
            "          5.0963e-02,  1.2005e-01, -7.3565e-02,  8.3359e-02,  1.1460e-01,\n",
            "         -4.2646e-04,  1.1028e-01,  1.2449e-02, -1.1307e-01],\n",
            "        [-5.9467e-02,  3.3418e-02,  8.3707e-02, -7.8741e-02, -5.7758e-02,\n",
            "          6.3177e-02, -1.0279e-01,  1.2953e-02,  5.4079e-02,  5.1919e-02,\n",
            "         -7.0717e-02,  2.2152e-02, -6.2823e-03, -4.0756e-02, -3.9048e-02,\n",
            "         -8.2570e-02,  4.1605e-02,  1.1960e-01, -1.0854e-01,  3.4067e-02,\n",
            "         -1.0605e-01, -7.1246e-02, -4.7592e-02, -6.1530e-02,  7.1596e-02,\n",
            "          7.4955e-03, -7.3935e-02,  1.0842e-01, -3.4076e-02,  1.3091e-02,\n",
            "         -1.3655e-02,  1.9083e-02, -8.8428e-02, -1.2067e-01,  3.2444e-02,\n",
            "          7.3171e-03, -1.6178e-02, -2.9424e-02,  6.5175e-02,  1.2425e-02,\n",
            "          4.3446e-02, -1.1808e-01, -1.1801e-01, -4.6596e-02,  1.3629e-02,\n",
            "          5.7374e-02, -1.5129e-03, -6.6892e-02,  2.3510e-03,  6.3032e-02,\n",
            "          5.0704e-02, -1.1672e-02, -1.0665e-01,  9.6779e-02,  9.5009e-02,\n",
            "          7.5716e-02,  1.7802e-02,  4.3250e-03,  6.0447e-03, -6.9249e-02,\n",
            "          3.3946e-02,  4.1957e-02, -2.8595e-02,  9.1710e-02],\n",
            "        [ 4.2215e-02,  2.5582e-02, -6.8763e-02,  6.7998e-02, -9.1965e-02,\n",
            "         -1.2129e-01, -4.7981e-02, -8.3788e-02,  2.8126e-02,  3.8790e-02,\n",
            "         -8.5763e-02,  3.1790e-02,  2.2482e-02, -7.4502e-02, -1.2260e-02,\n",
            "          3.6943e-02,  1.0475e-01, -1.0923e-03,  2.7383e-02,  2.5883e-02,\n",
            "         -7.7069e-02, -1.0965e-01, -6.5827e-02,  1.0347e-01,  3.1909e-02,\n",
            "         -5.3684e-02,  3.2981e-02, -8.1794e-02,  8.6641e-02,  6.7278e-02,\n",
            "         -1.2341e-01,  6.6184e-02,  9.6621e-02, -1.1914e-01, -8.6744e-03,\n",
            "         -1.5030e-02, -1.2002e-02, -2.0731e-02, -9.4712e-04,  9.5079e-02,\n",
            "          1.1819e-01,  1.1075e-01, -3.9652e-02,  4.6693e-02,  1.8163e-02,\n",
            "         -3.7230e-02, -1.0831e-01,  1.0212e-01,  4.0141e-03, -1.1590e-02,\n",
            "          5.1559e-02,  1.1867e-01,  1.1559e-01,  4.1599e-02,  2.6532e-02,\n",
            "          4.6904e-03, -5.5901e-02,  2.3220e-02,  6.8215e-03,  7.4055e-02,\n",
            "          3.7008e-02,  7.0153e-02,  1.0703e-01,  2.0184e-02],\n",
            "        [ 1.1347e-02, -1.4214e-02,  8.9004e-02,  3.6568e-02,  9.5418e-02,\n",
            "         -3.8787e-02, -1.0192e-01,  1.4009e-02, -8.3591e-02,  5.9090e-02,\n",
            "         -6.9689e-02,  1.3253e-02,  8.7656e-02, -7.1927e-02, -8.6814e-02,\n",
            "          5.5148e-02, -6.6970e-02, -5.5990e-02, -4.4809e-02,  3.5911e-02,\n",
            "         -1.6514e-02,  2.0569e-02,  8.5063e-02, -1.5600e-02, -2.2026e-02,\n",
            "         -7.6369e-02, -6.6432e-04,  5.1392e-02, -1.2683e-02, -1.1525e-01,\n",
            "         -3.8623e-02, -9.2731e-04, -6.7860e-02,  1.1066e-01, -4.0700e-02,\n",
            "          5.9874e-02,  6.5522e-02,  1.1927e-01,  1.0274e-01,  5.4348e-02,\n",
            "          5.0125e-03, -8.9332e-02, -3.1882e-02, -1.2415e-01,  5.9622e-02,\n",
            "          5.2469e-02, -7.7909e-02,  7.1957e-02,  3.0894e-02, -6.6226e-02,\n",
            "          6.1651e-02,  1.0366e-01, -2.2784e-03,  8.7781e-02, -8.8972e-02,\n",
            "         -9.5213e-02,  1.0441e-01,  6.5813e-02,  8.9207e-02, -4.3055e-03,\n",
            "         -5.8833e-02,  6.5457e-02, -6.5468e-02, -2.1112e-02],\n",
            "        [-1.9102e-02,  9.7895e-02, -6.7747e-02, -6.6279e-02, -1.0663e-03,\n",
            "          1.6124e-02,  2.5443e-02, -1.2077e-01,  9.5023e-02,  8.5917e-02,\n",
            "          1.5051e-02,  2.7176e-02, -4.8403e-02,  1.5254e-02, -7.8617e-02,\n",
            "         -6.1540e-02, -3.2443e-03,  8.7296e-03, -5.1202e-03,  1.2108e-01,\n",
            "         -5.7693e-02, -9.4058e-02,  1.1753e-01,  2.8173e-02, -6.8854e-02,\n",
            "         -9.6871e-02,  3.0796e-02,  4.8583e-02, -1.1629e-01,  8.9489e-02,\n",
            "          9.9872e-02,  4.4078e-02,  1.0913e-01, -1.0204e-01,  5.9939e-02,\n",
            "          2.6463e-02,  4.6074e-02,  1.1210e-01, -1.2049e-01, -6.2890e-02,\n",
            "         -8.4468e-02,  7.7000e-03,  2.7338e-02,  6.4008e-02,  2.6314e-02,\n",
            "          2.7655e-02,  1.0110e-01, -8.3927e-02, -8.4111e-02,  4.1313e-02,\n",
            "         -1.1638e-01, -9.6377e-02, -1.1375e-01,  1.8841e-02, -1.0490e-01,\n",
            "          6.9791e-02, -1.9286e-02,  7.8401e-02, -7.5246e-02, -6.2724e-02,\n",
            "         -2.3479e-02,  1.0449e-01, -3.9653e-02, -9.2163e-02],\n",
            "        [-1.2445e-02,  7.8332e-02,  9.2859e-02,  1.2224e-01, -1.0454e-01,\n",
            "         -1.0869e-01,  1.2238e-01, -9.0534e-02,  4.1569e-02, -2.6772e-02,\n",
            "          1.0144e-01, -3.6300e-02, -8.8986e-02, -2.1443e-02, -2.8737e-02,\n",
            "         -8.6490e-02, -8.6991e-02,  4.5807e-02, -3.9477e-02,  3.9940e-02,\n",
            "         -7.4748e-02,  2.8180e-02, -1.5145e-02, -5.6181e-02,  2.9172e-02,\n",
            "          5.3069e-02, -1.0947e-01, -3.6187e-02,  1.1481e-01, -1.1232e-02,\n",
            "          5.9200e-02, -5.5532e-02, -2.3956e-02,  4.6889e-02,  1.0845e-01,\n",
            "         -2.1707e-02, -1.2458e-01, -8.0009e-02,  5.3165e-02,  1.4179e-02,\n",
            "         -4.0266e-02,  1.1354e-01,  1.7911e-02, -1.1927e-01, -1.2333e-01,\n",
            "          1.4518e-02,  7.8019e-02,  1.1402e-01,  1.0916e-01,  2.9877e-05,\n",
            "         -1.0156e-01,  3.1385e-02, -1.1372e-01, -1.0672e-01, -5.7848e-02,\n",
            "         -2.2676e-03, -2.2361e-02, -1.0227e-01,  5.0964e-02, -5.2802e-02,\n",
            "         -8.9094e-02, -8.8620e-02,  1.8298e-02,  1.1263e-01],\n",
            "        [-7.4798e-02,  7.5531e-04, -5.3824e-02, -1.3457e-02, -1.0962e-01,\n",
            "         -5.6849e-02, -1.1591e-01,  3.8413e-02, -4.7570e-02, -3.1374e-02,\n",
            "          5.9999e-02,  1.1440e-02, -9.7736e-02,  1.1467e-01, -9.8384e-02,\n",
            "         -1.0103e-01,  1.1135e-02, -4.6732e-02,  1.1310e-01, -5.1515e-02,\n",
            "         -6.0994e-02, -4.7864e-02, -7.2321e-02, -8.2474e-03, -3.1458e-02,\n",
            "         -1.1315e-01,  1.3016e-02,  5.1459e-02,  7.4796e-02, -1.1509e-01,\n",
            "         -5.4996e-02, -1.5132e-04,  3.1709e-02, -8.7665e-02, -1.4141e-02,\n",
            "          8.6957e-03, -9.5903e-02,  8.4650e-02, -1.0712e-01,  3.2887e-04,\n",
            "          3.8370e-02,  3.5355e-02,  9.7873e-02,  1.1844e-01,  8.7973e-03,\n",
            "          5.4437e-02,  1.2493e-01, -8.9306e-03,  8.9273e-02,  1.0103e-01,\n",
            "          1.1813e-01,  7.2752e-02, -5.4683e-02,  4.3268e-03,  5.1928e-02,\n",
            "          1.1734e-01,  1.1184e-01, -2.8422e-02, -1.0332e-01,  4.6813e-02,\n",
            "         -2.1836e-02,  5.8582e-02, -4.8683e-02,  1.1079e-01],\n",
            "        [-4.2216e-02,  1.6132e-02, -1.1217e-02, -9.3241e-04, -1.0110e-01,\n",
            "          3.9420e-02, -4.3019e-02, -9.6079e-02,  1.3049e-02, -1.0920e-03,\n",
            "         -6.4889e-02, -7.4697e-02, -4.2871e-02, -6.2616e-02, -8.7801e-02,\n",
            "         -1.1892e-02, -5.3002e-02, -1.2492e-01, -8.7654e-02,  8.6789e-02,\n",
            "          2.7790e-02, -2.4770e-02, -6.2349e-02, -5.8064e-02, -1.2207e-01,\n",
            "         -6.2203e-02,  1.1591e-01, -1.0924e-01,  9.6499e-02, -5.7334e-02,\n",
            "          9.9043e-02, -1.1602e-01,  1.2457e-01,  3.5606e-02, -5.2343e-02,\n",
            "          9.8953e-02,  8.9610e-02, -8.4700e-02, -6.2527e-02,  1.0399e-02,\n",
            "         -3.0432e-02,  8.5077e-02,  1.1425e-01,  9.1289e-02,  1.0360e-01,\n",
            "         -5.6442e-02, -7.9431e-02,  1.0832e-01, -2.0210e-02, -1.0236e-01,\n",
            "         -3.5426e-02,  1.5946e-02, -7.1081e-02,  1.7089e-02, -2.3623e-02,\n",
            "          4.5847e-02, -9.9801e-02, -7.6323e-02, -2.8384e-02, -1.2286e-01,\n",
            "         -3.2150e-02, -1.0567e-01, -2.8130e-02,  1.1182e-01]],\n",
            "       requires_grad=True), Parameter containing:\n",
            "tensor([-0.1082,  0.0141,  0.0907,  0.0496,  0.0851,  0.1037,  0.1082,  0.0036,\n",
            "         0.0606,  0.0640], requires_grad=True)]\n"
          ],
          "name": "stdout"
        }
      ]
    },
    {
      "cell_type": "code",
      "metadata": {
        "id": "QwLDEgIyjVdF",
        "outputId": "28540e39-0881-4fb3-adb5-2cfd4d922b2c",
        "colab": {
          "base_uri": "https://localhost:8080/",
          "height": 68
        }
      },
      "source": [
        "import torch.optim as optim\n",
        "\n",
        "optimizer = optim.Adam(net.parameters(),lr=0.001)\n",
        "\n",
        "EPOCHS = 3\n",
        "\n",
        "for epoch in range(EPOCHS):\n",
        "  for data in trainset:\n",
        "    #data here is a bacth\n",
        "    X,y = data\n",
        "    net.zero_grad()\n",
        "    output = net(X.reshape(-1,784))\n",
        "    loss = F.nll_loss(output,y) #we use nll_loss bc we dont have a one hot vect\n",
        "    #repr for the targets, for one hot vect use MSE\n",
        "    #we could do it by hand, i.e SGD\n",
        "    loss.backward()\n",
        "    optimizer.step()\n",
        "  print(loss)\n",
        "\n",
        "#We mainly use pytorch for reasearch\n",
        "#Tensorflow for google, apps, also google reasearch\n",
        "# Caffe and Caffe 2 also exist\n"
      ],
      "execution_count": null,
      "outputs": [
        {
          "output_type": "stream",
          "text": [
            "tensor(0.0190, grad_fn=<NllLossBackward>)\n",
            "tensor(0.0221, grad_fn=<NllLossBackward>)\n",
            "tensor(0.0378, grad_fn=<NllLossBackward>)\n"
          ],
          "name": "stdout"
        }
      ]
    },
    {
      "cell_type": "code",
      "metadata": {
        "id": "xvyADHcgfxbx"
      },
      "source": [
        "import torch"
      ],
      "execution_count": null,
      "outputs": []
    },
    {
      "cell_type": "code",
      "metadata": {
        "id": "2ko8RY-zlehK",
        "outputId": "b794f097-173d-4bcd-f7c0-02e5dfe34dd3",
        "colab": {
          "base_uri": "https://localhost:8080/",
          "height": 282
        }
      },
      "source": [
        "correct = 0\n",
        "total = 0\n",
        "\n",
        "with torch.no_grad(): #we dont wanna calculate gradients\n",
        "  for data in trainset:\n",
        "    X,y = data\n",
        "    output = net(X.reshape(-1,784))\n",
        "    for idx, i in enumerate(output):\n",
        "      if torch.argmax(i) == y[idx]:\n",
        "        correct += 1\n",
        "      else:\n",
        "        plt.imshow(X[idx].reshape(28,28))\n",
        "        #I dont even know what that is XD\n",
        "      total +=1\n",
        "\n",
        "print(\"Accuracy: \",correct/total)\n"
      ],
      "execution_count": null,
      "outputs": [
        {
          "output_type": "stream",
          "text": [
            "Accuracy:  0.9775\n"
          ],
          "name": "stdout"
        },
        {
          "output_type": "display_data",
          "data": {
            "image/png": "[encoded data removed]",
            "text/plain": [
              "<Figure size 432x288 with 1 Axes>"
            ]
          },
          "metadata": {
            "tags": [],
            "needs_background": "light"
          }
        }
      ]
    },
    {
      "cell_type": "code",
      "metadata": {
        "id": "BLr2EeBzpBha",
        "outputId": "90227cca-1a17-46f4-dbc1-78761a6acd07",
        "colab": {
          "base_uri": "https://localhost:8080/",
          "height": 265
        }
      },
      "source": [
        "plt.imshow(X[9].reshape(28,28))\n",
        "plt.show()"
      ],
      "execution_count": null,
      "outputs": [
        {
          "output_type": "display_data",
          "data": {
            "image/png": "[encoded data removed]",
            "text/plain": [
              "<Figure size 432x288 with 1 Axes>"
            ]
          },
          "metadata": {
            "tags": [],
            "needs_background": "light"
          }
        }
      ]
    },
    {
      "cell_type": "code",
      "metadata": {
        "id": "6K1xDhclphUS",
        "outputId": "e5025ec8-0e77-467c-9dce-227d3d1fa0e2",
        "colab": {
          "base_uri": "https://localhost:8080/",
          "height": 34
        }
      },
      "source": [
        "print(torch.argmax(net(X[9].reshape(-1,784))))"
      ],
      "execution_count": null,
      "outputs": [
        {
          "output_type": "stream",
          "text": [
            "tensor(6)\n"
          ],
          "name": "stdout"
        }
      ]
    },
    {
      "cell_type": "markdown",
      "metadata": {
        "id": "WaFlji55jJif"
      },
      "source": [
        "## Part 5"
      ]
    },
    {
      "cell_type": "markdown",
      "metadata": {
        "id": "SY9b3Ie6jgpG"
      },
      "source": [
        "Convolutional neural networks"
      ]
    },
    {
      "cell_type": "code",
      "metadata": {
        "id": "y_Q7Rk2B9khK",
        "outputId": "f302818f-acdd-46e5-8ff5-1362b93494ac",
        "colab": {
          "base_uri": "https://localhost:8080/",
          "height": 54
        }
      },
      "source": [
        "#we use this to be able to access the data in the drive\n",
        "from google.colab import drive\n",
        "drive.mount('/content/drive')"
      ],
      "execution_count": null,
      "outputs": [
        {
          "output_type": "stream",
          "text": [
            "Drive already mounted at /content/drive; to attempt to forcibly remount, call drive.mount(\"/content/drive\", force_remount=True).\n"
          ],
          "name": "stdout"
        }
      ]
    },
    {
      "cell_type": "code",
      "metadata": {
        "id": "0rIaoPzGOOeg",
        "outputId": "c256e940-f5e8-418c-dc6e-616318b96f0d",
        "colab": {
          "base_uri": "https://localhost:8080/",
          "height": 51
        }
      },
      "source": [
        "import os\n",
        "path = '/content/drive/My Drive/Colab Notebooks'\n",
        "#os.chdir(path)\n",
        "\n",
        "cwd = os.getcwd()\n",
        "print(cwd)\n",
        "\n",
        "print(os.listdir())\n"
      ],
      "execution_count": null,
      "outputs": [
        {
          "output_type": "stream",
          "text": [
            "/content/drive/My Drive/Colab Notebooks\n",
            "['catvdog.zip', 'folder', 'training_data.npy', 'MNIST', 'CSE303_week1.ipynb']\n"
          ],
          "name": "stdout"
        }
      ]
    },
    {
      "cell_type": "code",
      "metadata": {
        "id": "RJpFSD4ANyNo"
      },
      "source": [
        "#we used this to unzip the dataset into folder\n",
        "#!unzip -uq \"catvdog.zip\" -d \"folder\""
      ],
      "execution_count": null,
      "outputs": []
    },
    {
      "cell_type": "code",
      "metadata": {
        "id": "pYDgYEePjM9j",
        "outputId": "63126db7-10fb-4e84-a9ad-1d5fc1e11e75",
        "colab": {
          "base_uri": "https://localhost:8080/",
          "height": 748
        }
      },
      "source": [
        "import torch\n",
        "import os\n",
        "import cv2\n",
        "import numpy as np\n",
        "from tqdm import tqdm\n",
        "import torch.nn as nn\n",
        "import torch.nn.functional as F\n",
        "import torch.optim as optim\n",
        "\n",
        "REBUILD_DATA = False\n",
        "if torch.cuda.is_available():\n",
        "  device = torch.device(\"cuda:0\")\n",
        "  print(\"running on the GPU\")\n",
        "else:\n",
        "  device = torch.device(\"cpu\")\n",
        "  print(\"running on the CPU\")\n",
        "\n",
        "class DogsVsCats():\n",
        "  IMG_SIZE = 50\n",
        "  \n",
        "  CATS = \"folder/PetImages/Cat\"\n",
        "  DOGS = \"folder/PetImages/Dog\"\n",
        "  LABELS = {CATS:0, DOGS:1}\n",
        "  training_data = []\n",
        "  catcount = 0\n",
        "  dogcount = 0\n",
        "  #BALANCE\n",
        "\n",
        "  def make_training_data(self):\n",
        "    for label in self.LABELS:\n",
        "      print(label)\n",
        "      for f in tqdm(os.listdir(label)):\n",
        "        if \"jpg\" in f:\n",
        "          try:\n",
        "            path = os.path.join(label,f)\n",
        "            img = cv2.imread(path,cv2.IMREAD_GRAYSCALE)\n",
        "            #simplify\n",
        "            img = cv2.resize(img,(self.IMG_SIZE,self.IMG_SIZE))\n",
        "            self.training_data.append([np.array(img),np.eye(2)[self.LABELS[label]]])\n",
        "\n",
        "            if label == self.CATS:\n",
        "              self.catcount += 1\n",
        "            elif label == self.DOGS:\n",
        "              self.dogcount += 1\n",
        "          except Exception as e:\n",
        "            print(str(e))\n",
        "            pass\n",
        "      \n",
        "      np.random.shuffle(self.training_data)\n",
        "      np.save(\"training_data.npy\",self.training_data)\n",
        "      print(\"Cats:\",self.catcount)\n",
        "      print(\"Dogs:\",self.dogcount)\n",
        "\n",
        "if REBUILD_DATA:\n",
        "  dogsvcats = DogsVsCats()\n",
        "  dogsvcats.make_training_data()\n",
        "\n",
        "class Net(nn.Module):\n",
        "  def __init__(self):\n",
        "    super().__init__()\n",
        "    self.conv1 = nn.Conv2d(1,32,5)\n",
        "    self.conv2 = nn.Conv2d(32,64,5)\n",
        "    self.conv3 = nn.Conv2d(64,128,5)\n",
        "\n",
        "    x = torch.randn(50,50).reshape(-1,1,50,50)\n",
        "    #Write computations\n",
        "    \n",
        "    self._to_linear = None\n",
        "    self.convs(x)\n",
        "    self.fc1 = nn.Linear(self._to_linear,512)\n",
        "    self.fc2 = nn.Linear(512,2)\n",
        "  def convs(self,x):\n",
        "    x = F.max_pool2d(F.relu(self.conv1(x)),(2,2))\n",
        "    x = F.max_pool2d(F.relu(self.conv2(x)),(2,2))\n",
        "    x = F.max_pool2d(F.relu(self.conv3(x)),(2,2))\n",
        "    if self._to_linear is None:\n",
        "      self._to_linear = x[0].shape[0] * x[0].shape[1] * x[0].shape[2]\n",
        "      #print(self._to_linear)\n",
        "    return x\n",
        "\n",
        "  def forward(self,x):\n",
        "    x = self.convs(x)\n",
        "    x = x.reshape(-1,self._to_linear)\n",
        "    x = F.relu(self.fc1(x))\n",
        "    x = self.fc2(x)\n",
        "    return F.softmax(x, dim=1)\n",
        "\n",
        "net = Net().to(device)\n",
        "print(net)\n",
        "\n",
        "training_data = np.load(\"training_data.npy\",allow_pickle=True)\n",
        "\n",
        "\n",
        "loss_function = nn.MSELoss()\n",
        "\n",
        "\n",
        "X = torch.Tensor([i[0] for i in training_data]).reshape(-1,50,50)\n",
        "X = X/255.0\n",
        "y = torch.Tensor([i[1] for i in training_data])\n",
        "\n",
        "VAL_PCT = 0.1\n",
        "val_size = int(len(X) * VAL_PCT)\n",
        "print(\"The size of the validation set is: \",val_size)\n",
        "#Important to have a validation set\n",
        "train_X = X[:-val_size]\n",
        "train_y = y[:-val_size]\n",
        "\n",
        "test_X = X[-val_size:]\n",
        "test_y = y[-val_size:]\n",
        "\n",
        "print(\"the sise of the training set is: \",len(train_X))\n",
        "print(\"the size of the test set is: \",len(test_X))\n",
        "\n",
        "BATCH_SIZE = 100\n",
        "EPOCHS = 10\n",
        "def train(net):\n",
        "  optimizer = optim.Adam(net.parameters(),lr=0.001)\n",
        "  for epoch in range(EPOCHS):\n",
        "    for i in tqdm(range(0,len(train_X),BATCH_SIZE)):\n",
        "      batch_X = train_X[i:i+BATCH_SIZE].reshape(-1,1,50,50)\n",
        "      batch_y = train_y[i:i+BATCH_SIZE]\n",
        "\n",
        "      batch_X, batch_y = batch_X.to(device), batch_y.to(device)\n",
        "\n",
        "\n",
        "      net.zero_grad()\n",
        "      #as long as the mode.parameters() are controled by the optim, equivalent to \n",
        "      #optim.zero_grad()\n",
        "      outputs = net(batch_X)\n",
        "      loss = loss_function(outputs, batch_y)\n",
        "      loss.backward()\n",
        "      optimizer.step()\n",
        "    print(f\"Epcoch:{epoch}. Loss: {loss}\")\n",
        "\n",
        "def test(net):\n",
        "  correct = 0\n",
        "  total = 0\n",
        "  with torch.no_grad():\n",
        "    for i in tqdm(range(len(test_X))):\n",
        "      real_class = torch.argmax(test_y[i]).to(device)\n",
        "      net_out = net(test_X[i].reshape(-1,1,50,50).to(device))[0]\n",
        "      predicted_class = torch.argmax(net_out)\n",
        "      if predicted_class == real_class:\n",
        "        correct += 1\n",
        "      total += 1\n",
        "  print(\"Accuracy:\",correct/total)\n",
        "\n",
        "train(net)\n",
        "\n",
        "test(net)"
      ],
      "execution_count": null,
      "outputs": [
        {
          "output_type": "stream",
          "text": [
            "running on the GPU\n",
            "Net(\n",
            "  (conv1): Conv2d(1, 32, kernel_size=(5, 5), stride=(1, 1))\n",
            "  (conv2): Conv2d(32, 64, kernel_size=(5, 5), stride=(1, 1))\n",
            "  (conv3): Conv2d(64, 128, kernel_size=(5, 5), stride=(1, 1))\n",
            "  (fc1): Linear(in_features=512, out_features=512, bias=True)\n",
            "  (fc2): Linear(in_features=512, out_features=2, bias=True)\n",
            ")\n"
          ],
          "name": "stdout"
        },
        {
          "output_type": "stream",
          "text": [
            "  2%|▏         | 4/225 [00:00<00:05, 38.88it/s]"
          ],
          "name": "stderr"
        },
        {
          "output_type": "stream",
          "text": [
            "The size of the validation set is:  2494\n",
            "the sise of the training set is:  22452\n",
            "the size of the test set is:  2494\n"
          ],
          "name": "stdout"
        },
        {
          "output_type": "stream",
          "text": [
            "100%|██████████| 225/225 [00:05<00:00, 42.01it/s]\n",
            "  3%|▎         | 6/225 [00:00<00:04, 48.96it/s]"
          ],
          "name": "stderr"
        },
        {
          "output_type": "stream",
          "text": [
            "Epcoch:0. Loss: 0.21919061243534088 \n",
            "\n"
          ],
          "name": "stdout"
        },
        {
          "output_type": "stream",
          "text": [
            "100%|██████████| 225/225 [00:05<00:00, 42.79it/s]\n",
            "  2%|▏         | 5/225 [00:00<00:04, 49.62it/s]"
          ],
          "name": "stderr"
        },
        {
          "output_type": "stream",
          "text": [
            "Epcoch:1. Loss: 0.18632951378822327 \n",
            "\n"
          ],
          "name": "stdout"
        },
        {
          "output_type": "stream",
          "text": [
            "100%|██████████| 225/225 [00:05<00:00, 42.76it/s]\n",
            "  3%|▎         | 6/225 [00:00<00:04, 49.01it/s]"
          ],
          "name": "stderr"
        },
        {
          "output_type": "stream",
          "text": [
            "Epcoch:2. Loss: 0.17430394887924194 \n",
            "\n"
          ],
          "name": "stdout"
        },
        {
          "output_type": "stream",
          "text": [
            "100%|██████████| 225/225 [00:05<00:00, 42.97it/s]\n",
            "  3%|▎         | 6/225 [00:00<00:04, 49.41it/s]"
          ],
          "name": "stderr"
        },
        {
          "output_type": "stream",
          "text": [
            "Epcoch:3. Loss: 0.15447698533535004 \n",
            "\n"
          ],
          "name": "stdout"
        },
        {
          "output_type": "stream",
          "text": [
            "100%|██████████| 225/225 [00:05<00:00, 42.92it/s]\n",
            "  3%|▎         | 6/225 [00:00<00:04, 48.80it/s]"
          ],
          "name": "stderr"
        },
        {
          "output_type": "stream",
          "text": [
            "Epcoch:4. Loss: 0.12578962743282318 \n",
            "\n"
          ],
          "name": "stdout"
        },
        {
          "output_type": "stream",
          "text": [
            "100%|██████████| 225/225 [00:05<00:00, 42.97it/s]\n",
            "  3%|▎         | 6/225 [00:00<00:04, 49.50it/s]"
          ],
          "name": "stderr"
        },
        {
          "output_type": "stream",
          "text": [
            "Epcoch:5. Loss: 0.10754093527793884 \n",
            "\n"
          ],
          "name": "stdout"
        },
        {
          "output_type": "stream",
          "text": [
            "100%|██████████| 225/225 [00:05<00:00, 43.02it/s]\n",
            "  3%|▎         | 6/225 [00:00<00:04, 49.49it/s]"
          ],
          "name": "stderr"
        },
        {
          "output_type": "stream",
          "text": [
            "Epcoch:6. Loss: 0.07269924134016037 \n",
            "\n"
          ],
          "name": "stdout"
        },
        {
          "output_type": "stream",
          "text": [
            "100%|██████████| 225/225 [00:05<00:00, 43.00it/s]\n",
            "  2%|▏         | 5/225 [00:00<00:04, 48.27it/s]"
          ],
          "name": "stderr"
        },
        {
          "output_type": "stream",
          "text": [
            "Epcoch:7. Loss: 0.06440949440002441 \n",
            "\n"
          ],
          "name": "stdout"
        },
        {
          "output_type": "stream",
          "text": [
            "100%|██████████| 225/225 [00:05<00:00, 42.96it/s]\n",
            "  2%|▏         | 5/225 [00:00<00:04, 49.29it/s]"
          ],
          "name": "stderr"
        },
        {
          "output_type": "stream",
          "text": [
            "Epcoch:8. Loss: 0.04911869019269943 \n",
            "\n"
          ],
          "name": "stdout"
        },
        {
          "output_type": "stream",
          "text": [
            "100%|██████████| 225/225 [00:05<00:00, 43.00it/s]\n",
            "  4%|▎         | 91/2494 [00:00<00:02, 900.70it/s]"
          ],
          "name": "stderr"
        },
        {
          "output_type": "stream",
          "text": [
            "Epcoch:9. Loss: 0.022562632337212563 \n",
            "\n"
          ],
          "name": "stdout"
        },
        {
          "output_type": "stream",
          "text": [
            "100%|██████████| 2494/2494 [00:02<00:00, 870.03it/s]"
          ],
          "name": "stderr"
        },
        {
          "output_type": "stream",
          "text": [
            "Accuracy: 0.7738572574178028\n"
          ],
          "name": "stdout"
        },
        {
          "output_type": "stream",
          "text": [
            "\n"
          ],
          "name": "stderr"
        }
      ]
    },
    {
      "cell_type": "markdown",
      "metadata": {
        "id": "Dgm7jEkb6-q_"
      },
      "source": [
        "Be careful with notebooks! There can be bugs, caused by cells you ran before"
      ]
    },
    {
      "cell_type": "code",
      "metadata": {
        "id": "Zh-_G0nlokN-"
      },
      "source": [
        "#this is a cool trick to transform numbers into a 1 hot representation\n",
        "#np.eye(# of classes)[index of target]"
      ],
      "execution_count": null,
      "outputs": []
    },
    {
      "cell_type": "code",
      "metadata": {
        "id": "Smp324T2PBxN",
        "outputId": "98c280d8-12e6-4ff5-8fcd-1a172d110ad1",
        "colab": {
          "base_uri": "https://localhost:8080/",
          "height": 357
        }
      },
      "source": [
        "#Checks that the GPU is running\n",
        "!nvidia-smi"
      ],
      "execution_count": null,
      "outputs": [
        {
          "output_type": "stream",
          "text": [
            "Tue Oct  6 07:19:17 2020       \n",
            "+-----------------------------------------------------------------------------+\n",
            "| NVIDIA-SMI 455.23.05    Driver Version: 418.67       CUDA Version: 10.1     |\n",
            "|-------------------------------+----------------------+----------------------+\n",
            "| GPU  Name        Persistence-M| Bus-Id        Disp.A | Volatile Uncorr. ECC |\n",
            "| Fan  Temp  Perf  Pwr:Usage/Cap|         Memory-Usage | GPU-Util  Compute M. |\n",
            "|                               |                      |               MIG M. |\n",
            "|===============================+======================+======================|\n",
            "|   0  Tesla K80           Off  | 00000000:00:04.0 Off |                    0 |\n",
            "| N/A   69C    P8    34W / 149W |     11MiB / 11441MiB |      0%      Default |\n",
            "|                               |                      |                 ERR! |\n",
            "+-------------------------------+----------------------+----------------------+\n",
            "                                                                               \n",
            "+-----------------------------------------------------------------------------+\n",
            "| Processes:                                                                  |\n",
            "|  GPU   GI   CI        PID   Type   Process name                  GPU Memory |\n",
            "|        ID   ID                                                   Usage      |\n",
            "|=============================================================================|\n",
            "|  No running processes found                                                 |\n",
            "+-----------------------------------------------------------------------------+\n"
          ],
          "name": "stdout"
        }
      ]
    },
    {
      "cell_type": "code",
      "metadata": {
        "id": "tf2GPpcxzGEo",
        "outputId": "42105d30-03d3-488d-ef11-f652007f69a0",
        "colab": {
          "base_uri": "https://localhost:8080/",
          "height": 34
        }
      },
      "source": [
        "torch.cuda.device_count()"
      ],
      "execution_count": null,
      "outputs": [
        {
          "output_type": "execute_result",
          "data": {
            "text/plain": [
              "1"
            ]
          },
          "metadata": {
            "tags": []
          },
          "execution_count": 51
        }
      ]
    },
    {
      "cell_type": "markdown",
      "metadata": {
        "id": "5N382H9WzrQu"
      },
      "source": [
        "The conversion to GPU takes time, to that's why we dont put everything \n",
        "GPU"
      ]
    },
    {
      "cell_type": "markdown",
      "metadata": {
        "id": "vcqeFJb17muc"
      },
      "source": [
        "#Part 8"
      ]
    },
    {
      "cell_type": "code",
      "metadata": {
        "id": "6uhMzQV57qDr",
        "outputId": "b1f0a87e-9495-440b-9c88-191d3d866b25",
        "colab": {
          "base_uri": "https://localhost:8080/",
          "height": 204
        }
      },
      "source": [
        "import torch\n",
        "import os\n",
        "import cv2\n",
        "import numpy as np\n",
        "from tqdm import tqdm\n",
        "import torch.nn as nn\n",
        "import torch.nn.functional as F\n",
        "import torch.optim as optim\n",
        "\n",
        "REBUILD_DATA = False\n",
        "\n",
        "if torch.cuda.is_available():\n",
        "  device = torch.device(\"cuda:0\")\n",
        "  print(\"running on the GPU\")\n",
        "else:\n",
        "  device = torch.device(\"cpu\")\n",
        "  print(\"running on the CPU\")\n",
        "\n",
        "class DogsVsCats():\n",
        "  IMG_SIZE = 50\n",
        "  \n",
        "  CATS = \"folder/PetImages/Cat\"\n",
        "  DOGS = \"folder/PetImages/Dog\"\n",
        "  LABELS = {CATS:0, DOGS:1}\n",
        "  training_data = []\n",
        "  catcount = 0\n",
        "  dogcount = 0\n",
        "  #BALANCE\n",
        "\n",
        "  def make_training_data(self):\n",
        "    for label in self.LABELS:\n",
        "      print(label)\n",
        "      for f in tqdm(os.listdir(label)):\n",
        "        if \"jpg\" in f:\n",
        "          try:\n",
        "            path = os.path.join(label,f)\n",
        "            img = cv2.imread(path,cv2.IMREAD_GRAYSCALE)\n",
        "            #simplify\n",
        "            img = cv2.resize(img,(self.IMG_SIZE,self.IMG_SIZE))\n",
        "            self.training_data.append([np.array(img),np.eye(2)[self.LABELS[label]]])\n",
        "\n",
        "            if label == self.CATS:\n",
        "              self.catcount += 1\n",
        "            elif label == self.DOGS:\n",
        "              self.dogcount += 1\n",
        "          except Exception as e:\n",
        "            print(str(e))\n",
        "            pass\n",
        "      \n",
        "      np.random.shuffle(self.training_data)\n",
        "      np.save(\"training_data.npy\",self.training_data)\n",
        "      print(\"Cats:\",self.catcount)\n",
        "      print(\"Dogs:\",self.dogcount)\n",
        "\n",
        "if REBUILD_DATA:\n",
        "  dogsvcats = DogsVsCats()\n",
        "  dogsvcats.make_training_data()\n",
        "\n",
        "class Net(nn.Module):\n",
        "  def __init__(self):\n",
        "    super().__init__()\n",
        "    self.conv1 = nn.Conv2d(1,32,5)\n",
        "    self.conv2 = nn.Conv2d(32,64,5)\n",
        "    self.conv3 = nn.Conv2d(64,128,5)\n",
        "\n",
        "    x = torch.randn(50,50).reshape(-1,1,50,50)\n",
        "    #Write computations\n",
        "    \n",
        "    self._to_linear = None\n",
        "    self.convs(x)\n",
        "    self.fc1 = nn.Linear(self._to_linear,512)\n",
        "    self.fc2 = nn.Linear(512,2)\n",
        "  def convs(self,x):\n",
        "    x = F.max_pool2d(F.relu(self.conv1(x)),(2,2))\n",
        "    x = F.max_pool2d(F.relu(self.conv2(x)),(2,2))\n",
        "    x = F.max_pool2d(F.relu(self.conv3(x)),(2,2))\n",
        "    if self._to_linear is None:\n",
        "      self._to_linear = x[0].shape[0] * x[0].shape[1] * x[0].shape[2]\n",
        "      #print(self._to_linear)\n",
        "    return x\n",
        "\n",
        "  def forward(self,x):\n",
        "    x = self.convs(x)\n",
        "    x = x.reshape(-1,self._to_linear)\n",
        "    x = F.relu(self.fc1(x))\n",
        "    x = self.fc2(x)\n",
        "    return F.softmax(x, dim=1)\n",
        "\n",
        "net = Net().to(device)\n",
        "print(net)\n",
        "\n",
        "training_data = np.load(\"training_data.npy\",allow_pickle=True)\n",
        "\n",
        "optimizer = optim.Adam(net.parameters(), lr=0.001)\n",
        "loss_function = nn.MSELoss()\n",
        "\n",
        "\n",
        "X = torch.Tensor([i[0] for i in training_data]).reshape(-1,50,50)\n",
        "X = X/255.0\n",
        "y = torch.Tensor([i[1] for i in training_data])\n",
        "\n",
        "VAL_PCT = 0.1\n",
        "val_size = int(len(X) * VAL_PCT)\n",
        "print(\"The size of the validation set is: \",val_size)\n",
        "#Important to have a validation set\n",
        "train_X = X[:-val_size]\n",
        "train_y = y[:-val_size]\n",
        "\n",
        "test_X = X[-val_size:]\n",
        "test_y = y[-val_size:]\n",
        "\n",
        "print(\"the sise of the training set is: \",len(train_X))\n",
        "print(\"the size of the test set is: \",len(test_X))\n",
        "\n",
        "BATCH_SIZE = 100\n",
        "EPOCHS = 10\n"
      ],
      "execution_count": null,
      "outputs": [
        {
          "output_type": "stream",
          "text": [
            "running on the GPU\n",
            "Net(\n",
            "  (conv1): Conv2d(1, 32, kernel_size=(5, 5), stride=(1, 1))\n",
            "  (conv2): Conv2d(32, 64, kernel_size=(5, 5), stride=(1, 1))\n",
            "  (conv3): Conv2d(64, 128, kernel_size=(5, 5), stride=(1, 1))\n",
            "  (fc1): Linear(in_features=512, out_features=512, bias=True)\n",
            "  (fc2): Linear(in_features=512, out_features=2, bias=True)\n",
            ")\n",
            "The size of the validation set is:  2494\n",
            "the sise of the training set is:  22452\n",
            "the size of the test set is:  2494\n"
          ],
          "name": "stdout"
        }
      ]
    },
    {
      "cell_type": "code",
      "metadata": {
        "id": "AVUpSZNN75cF"
      },
      "source": [
        "def fwd_pass(X,y,train=False):\n",
        "  if train:\n",
        "    net.zero_grad()\n",
        "  outputs = net(X)\n",
        "  matches = [torch.argmax(i)==torch.argmax(j) for i, j in zip(outputs,y)]\n",
        "  acc = matches.count(True)/len(matches)\n",
        "  loss = loss_function(outputs,y)\n",
        "\n",
        "  if train:\n",
        "    loss.backward()\n",
        "    optimizer.step()\n",
        "  return acc,loss "
      ],
      "execution_count": null,
      "outputs": []
    },
    {
      "cell_type": "code",
      "metadata": {
        "id": "6kDWQzv5AXja"
      },
      "source": [
        "import numpy as np"
      ],
      "execution_count": null,
      "outputs": []
    },
    {
      "cell_type": "code",
      "metadata": {
        "id": "q8dTiGLy9nc_",
        "outputId": "23d09a78-a46a-4128-a003-e11aa0f93f3d",
        "colab": {
          "base_uri": "https://localhost:8080/",
          "height": 34
        }
      },
      "source": [
        "def test(size=32):\n",
        "  random_start = np.random.randint(len(test_X)-size)\n",
        "  X,y = test_X[random_start:random_start+size], test_y[random_start:random_start+size]\n",
        "  with torch.no_grad():\n",
        "    val_acc,val_loss = fwd_pass(X.reshape(-1,1,50,50).to(device), y.to(device))\n",
        "  return val_acc, val_loss\n",
        "\n",
        "val_acc, val_loss = test(size=32)\n",
        "print(val_acc,val_loss)"
      ],
      "execution_count": null,
      "outputs": [
        {
          "output_type": "stream",
          "text": [
            "0.40625 tensor(0.2517, device='cuda:0')\n"
          ],
          "name": "stdout"
        }
      ]
    },
    {
      "cell_type": "code",
      "metadata": {
        "id": "bl5lmLZ-BeGk",
        "outputId": "5de64c5a-0a32-4a63-9e0c-1fff45542a91",
        "colab": {
          "base_uri": "https://localhost:8080/",
          "height": 544
        }
      },
      "source": [
        "import time \n",
        "\n",
        "MODEL_NAME = f\"model-{int(time.time())}\"\n",
        "optimizer = optim.Adam(net.parameters(), lr=0.001)\n",
        "loss_function = nn.MSELoss()\n",
        "\n",
        "print(MODEL_NAME)\n",
        "\n",
        "def train(net):\n",
        "  BATCH_SIZE = 100\n",
        "  EPOCHS = 30\n",
        "  with open(\"model.log\",\"a\") as f:\n",
        "    for epoch in range(EPOCHS):\n",
        "      for i in tqdm(range(0,len(train_X),BATCH_SIZE)):\n",
        "        batch_X = train_X[i:i+BATCH_SIZE].reshape(-1,1,50,50)\n",
        "        batch_y = train_y[i:i+BATCH_SIZE]\n",
        "\n",
        "        batch_X, batch_y = batch_X.to(device), batch_y.to(device)\n",
        "        acc, loss = fwd_pass(batch_X, batch_y, train=True)\n",
        "        if i%50 == 0:\n",
        "          val_acc, val_loss = test(size=100)\n",
        "          f.write(f\"{MODEL_NAME},{round(time.time(),3)},{round(float(acc),2)},{round(float(loss),4)},{round(float(val_acc),2)},{round(float(val_loss),4)} \\n\")\n",
        "\n",
        "      \n",
        "train(net)\n",
        "\n"
      ],
      "execution_count": null,
      "outputs": [
        {
          "output_type": "stream",
          "text": [
            "  1%|          | 2/225 [00:00<00:13, 16.15it/s]"
          ],
          "name": "stderr"
        },
        {
          "output_type": "stream",
          "text": [
            "model-1601980962\n"
          ],
          "name": "stdout"
        },
        {
          "output_type": "stream",
          "text": [
            "100%|██████████| 225/225 [00:10<00:00, 21.48it/s]\n",
            "100%|██████████| 225/225 [00:10<00:00, 21.82it/s]\n",
            "100%|██████████| 225/225 [00:10<00:00, 21.47it/s]\n",
            "100%|██████████| 225/225 [00:10<00:00, 21.92it/s]\n",
            "100%|██████████| 225/225 [00:10<00:00, 20.97it/s]\n",
            "100%|██████████| 225/225 [00:10<00:00, 21.95it/s]\n",
            "100%|██████████| 225/225 [00:10<00:00, 21.71it/s]\n",
            "100%|██████████| 225/225 [00:10<00:00, 21.34it/s]\n",
            "100%|██████████| 225/225 [00:10<00:00, 21.62it/s]\n",
            "100%|██████████| 225/225 [00:10<00:00, 20.87it/s]\n",
            "100%|██████████| 225/225 [00:10<00:00, 21.57it/s]\n",
            "100%|██████████| 225/225 [00:10<00:00, 21.71it/s]\n",
            "100%|██████████| 225/225 [00:10<00:00, 21.16it/s]\n",
            "100%|██████████| 225/225 [00:10<00:00, 21.90it/s]\n",
            "100%|██████████| 225/225 [00:10<00:00, 21.86it/s]\n",
            "100%|██████████| 225/225 [00:10<00:00, 21.60it/s]\n",
            "100%|██████████| 225/225 [00:10<00:00, 21.16it/s]\n",
            "100%|██████████| 225/225 [00:10<00:00, 20.68it/s]\n",
            "100%|██████████| 225/225 [00:10<00:00, 20.77it/s]\n",
            "100%|██████████| 225/225 [00:10<00:00, 21.11it/s]\n",
            "100%|██████████| 225/225 [00:10<00:00, 21.50it/s]\n",
            "100%|██████████| 225/225 [00:10<00:00, 21.39it/s]\n",
            "100%|██████████| 225/225 [00:10<00:00, 21.49it/s]\n",
            "100%|██████████| 225/225 [00:10<00:00, 20.94it/s]\n",
            "100%|██████████| 225/225 [00:10<00:00, 21.89it/s]\n",
            "100%|██████████| 225/225 [00:10<00:00, 21.16it/s]\n",
            "100%|██████████| 225/225 [00:10<00:00, 21.45it/s]\n",
            "100%|██████████| 225/225 [00:10<00:00, 21.49it/s]\n",
            "100%|██████████| 225/225 [00:10<00:00, 21.20it/s]\n",
            "100%|██████████| 225/225 [00:10<00:00, 21.09it/s]\n"
          ],
          "name": "stderr"
        }
      ]
    },
    {
      "cell_type": "code",
      "metadata": {
        "id": "IlDrYB4AIUz7"
      },
      "source": [
        ""
      ],
      "execution_count": null,
      "outputs": []
    }
  ]
}
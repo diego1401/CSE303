{
  "nbformat": 4,
  "nbformat_minor": 0,
  "metadata": {
    "colab": {
      "name": "CSE303_week1.ipynb",
      "provenance": [],
      "collapsed_sections": [],
      "authorship_tag": "ABX9TyM7DTKBAGodLpGWVEf7uOb6",
      "include_colab_link": true
    },
    "kernelspec": {
      "name": "python3",
      "display_name": "Python 3"
    },
    "widgets": {
      "application/vnd.jupyter.widget-state+json": {
        "6dd6a188da95476cb12dc8e7ed5fe459": {
          "model_module": "@jupyter-widgets/controls",
          "model_name": "HBoxModel",
          "state": {
            "_view_name": "HBoxView",
            "_dom_classes": [],
            "_model_name": "HBoxModel",
            "_view_module": "@jupyter-widgets/controls",
            "_model_module_version": "1.5.0",
            "_view_count": null,
            "_view_module_version": "1.5.0",
            "box_style": "",
            "layout": "IPY_MODEL_4fa50d8c8c0544609516cd5da21df39b",
            "_model_module": "@jupyter-widgets/controls",
            "children": [
              "IPY_MODEL_1f7bfed0d3d94353bf0a4fd909c09102",
              "IPY_MODEL_4fd808197ebb4c31ab427c2b45e63f39"
            ]
          }
        },
        "4fa50d8c8c0544609516cd5da21df39b": {
          "model_module": "@jupyter-widgets/base",
          "model_name": "LayoutModel",
          "state": {
            "_view_name": "LayoutView",
            "grid_template_rows": null,
            "right": null,
            "justify_content": null,
            "_view_module": "@jupyter-widgets/base",
            "overflow": null,
            "_model_module_version": "1.2.0",
            "_view_count": null,
            "flex_flow": null,
            "width": null,
            "min_width": null,
            "border": null,
            "align_items": null,
            "bottom": null,
            "_model_module": "@jupyter-widgets/base",
            "top": null,
            "grid_column": null,
            "overflow_y": null,
            "overflow_x": null,
            "grid_auto_flow": null,
            "grid_area": null,
            "grid_template_columns": null,
            "flex": null,
            "_model_name": "LayoutModel",
            "justify_items": null,
            "grid_row": null,
            "max_height": null,
            "align_content": null,
            "visibility": null,
            "align_self": null,
            "height": null,
            "min_height": null,
            "padding": null,
            "grid_auto_rows": null,
            "grid_gap": null,
            "max_width": null,
            "order": null,
            "_view_module_version": "1.2.0",
            "grid_template_areas": null,
            "object_position": null,
            "object_fit": null,
            "grid_auto_columns": null,
            "margin": null,
            "display": null,
            "left": null
          }
        },
        "1f7bfed0d3d94353bf0a4fd909c09102": {
          "model_module": "@jupyter-widgets/controls",
          "model_name": "FloatProgressModel",
          "state": {
            "_view_name": "ProgressView",
            "style": "IPY_MODEL_9f98b3a1e8884dfe92f6d2988e4e1a15",
            "_dom_classes": [],
            "description": "",
            "_model_name": "FloatProgressModel",
            "bar_style": "success",
            "max": 1,
            "_view_module": "@jupyter-widgets/controls",
            "_model_module_version": "1.5.0",
            "value": 1,
            "_view_count": null,
            "_view_module_version": "1.5.0",
            "orientation": "horizontal",
            "min": 0,
            "description_tooltip": null,
            "_model_module": "@jupyter-widgets/controls",
            "layout": "IPY_MODEL_d190332ecc644bb8ad5249c9d59bcf84"
          }
        },
        "4fd808197ebb4c31ab427c2b45e63f39": {
          "model_module": "@jupyter-widgets/controls",
          "model_name": "HTMLModel",
          "state": {
            "_view_name": "HTMLView",
            "style": "IPY_MODEL_0bb98eb31f5b41dd8bcd5ee6b5b757dc",
            "_dom_classes": [],
            "description": "",
            "_model_name": "HTMLModel",
            "placeholder": "​",
            "_view_module": "@jupyter-widgets/controls",
            "_model_module_version": "1.5.0",
            "value": " 9920512/? [00:08&lt;00:00, 1159910.27it/s]",
            "_view_count": null,
            "_view_module_version": "1.5.0",
            "description_tooltip": null,
            "_model_module": "@jupyter-widgets/controls",
            "layout": "IPY_MODEL_93fb4667da9e44df81f55270b6e1eaa0"
          }
        },
        "9f98b3a1e8884dfe92f6d2988e4e1a15": {
          "model_module": "@jupyter-widgets/controls",
          "model_name": "ProgressStyleModel",
          "state": {
            "_view_name": "StyleView",
            "_model_name": "ProgressStyleModel",
            "description_width": "initial",
            "_view_module": "@jupyter-widgets/base",
            "_model_module_version": "1.5.0",
            "_view_count": null,
            "_view_module_version": "1.2.0",
            "bar_color": null,
            "_model_module": "@jupyter-widgets/controls"
          }
        },
        "d190332ecc644bb8ad5249c9d59bcf84": {
          "model_module": "@jupyter-widgets/base",
          "model_name": "LayoutModel",
          "state": {
            "_view_name": "LayoutView",
            "grid_template_rows": null,
            "right": null,
            "justify_content": null,
            "_view_module": "@jupyter-widgets/base",
            "overflow": null,
            "_model_module_version": "1.2.0",
            "_view_count": null,
            "flex_flow": null,
            "width": null,
            "min_width": null,
            "border": null,
            "align_items": null,
            "bottom": null,
            "_model_module": "@jupyter-widgets/base",
            "top": null,
            "grid_column": null,
            "overflow_y": null,
            "overflow_x": null,
            "grid_auto_flow": null,
            "grid_area": null,
            "grid_template_columns": null,
            "flex": null,
            "_model_name": "LayoutModel",
            "justify_items": null,
            "grid_row": null,
            "max_height": null,
            "align_content": null,
            "visibility": null,
            "align_self": null,
            "height": null,
            "min_height": null,
            "padding": null,
            "grid_auto_rows": null,
            "grid_gap": null,
            "max_width": null,
            "order": null,
            "_view_module_version": "1.2.0",
            "grid_template_areas": null,
            "object_position": null,
            "object_fit": null,
            "grid_auto_columns": null,
            "margin": null,
            "display": null,
            "left": null
          }
        },
        "0bb98eb31f5b41dd8bcd5ee6b5b757dc": {
          "model_module": "@jupyter-widgets/controls",
          "model_name": "DescriptionStyleModel",
          "state": {
            "_view_name": "StyleView",
            "_model_name": "DescriptionStyleModel",
            "description_width": "",
            "_view_module": "@jupyter-widgets/base",
            "_model_module_version": "1.5.0",
            "_view_count": null,
            "_view_module_version": "1.2.0",
            "_model_module": "@jupyter-widgets/controls"
          }
        },
        "93fb4667da9e44df81f55270b6e1eaa0": {
          "model_module": "@jupyter-widgets/base",
          "model_name": "LayoutModel",
          "state": {
            "_view_name": "LayoutView",
            "grid_template_rows": null,
            "right": null,
            "justify_content": null,
            "_view_module": "@jupyter-widgets/base",
            "overflow": null,
            "_model_module_version": "1.2.0",
            "_view_count": null,
            "flex_flow": null,
            "width": null,
            "min_width": null,
            "border": null,
            "align_items": null,
            "bottom": null,
            "_model_module": "@jupyter-widgets/base",
            "top": null,
            "grid_column": null,
            "overflow_y": null,
            "overflow_x": null,
            "grid_auto_flow": null,
            "grid_area": null,
            "grid_template_columns": null,
            "flex": null,
            "_model_name": "LayoutModel",
            "justify_items": null,
            "grid_row": null,
            "max_height": null,
            "align_content": null,
            "visibility": null,
            "align_self": null,
            "height": null,
            "min_height": null,
            "padding": null,
            "grid_auto_rows": null,
            "grid_gap": null,
            "max_width": null,
            "order": null,
            "_view_module_version": "1.2.0",
            "grid_template_areas": null,
            "object_position": null,
            "object_fit": null,
            "grid_auto_columns": null,
            "margin": null,
            "display": null,
            "left": null
          }
        },
        "d82ed5ad5ab24369920a883e638e9637": {
          "model_module": "@jupyter-widgets/controls",
          "model_name": "HBoxModel",
          "state": {
            "_view_name": "HBoxView",
            "_dom_classes": [],
            "_model_name": "HBoxModel",
            "_view_module": "@jupyter-widgets/controls",
            "_model_module_version": "1.5.0",
            "_view_count": null,
            "_view_module_version": "1.5.0",
            "box_style": "",
            "layout": "IPY_MODEL_7c063a533e714e2ebae24b9fbc073e92",
            "_model_module": "@jupyter-widgets/controls",
            "children": [
              "IPY_MODEL_04852f2b2757453dbe02a6be854e9b65",
              "IPY_MODEL_9aa0845b84064ec0b7958e76f791b225"
            ]
          }
        },
        "7c063a533e714e2ebae24b9fbc073e92": {
          "model_module": "@jupyter-widgets/base",
          "model_name": "LayoutModel",
          "state": {
            "_view_name": "LayoutView",
            "grid_template_rows": null,
            "right": null,
            "justify_content": null,
            "_view_module": "@jupyter-widgets/base",
            "overflow": null,
            "_model_module_version": "1.2.0",
            "_view_count": null,
            "flex_flow": null,
            "width": null,
            "min_width": null,
            "border": null,
            "align_items": null,
            "bottom": null,
            "_model_module": "@jupyter-widgets/base",
            "top": null,
            "grid_column": null,
            "overflow_y": null,
            "overflow_x": null,
            "grid_auto_flow": null,
            "grid_area": null,
            "grid_template_columns": null,
            "flex": null,
            "_model_name": "LayoutModel",
            "justify_items": null,
            "grid_row": null,
            "max_height": null,
            "align_content": null,
            "visibility": null,
            "align_self": null,
            "height": null,
            "min_height": null,
            "padding": null,
            "grid_auto_rows": null,
            "grid_gap": null,
            "max_width": null,
            "order": null,
            "_view_module_version": "1.2.0",
            "grid_template_areas": null,
            "object_position": null,
            "object_fit": null,
            "grid_auto_columns": null,
            "margin": null,
            "display": null,
            "left": null
          }
        },
        "04852f2b2757453dbe02a6be854e9b65": {
          "model_module": "@jupyter-widgets/controls",
          "model_name": "FloatProgressModel",
          "state": {
            "_view_name": "ProgressView",
            "style": "IPY_MODEL_96acdc3ed58541ed9d06a3835be2516f",
            "_dom_classes": [],
            "description": "",
            "_model_name": "FloatProgressModel",
            "bar_style": "success",
            "max": 1,
            "_view_module": "@jupyter-widgets/controls",
            "_model_module_version": "1.5.0",
            "value": 1,
            "_view_count": null,
            "_view_module_version": "1.5.0",
            "orientation": "horizontal",
            "min": 0,
            "description_tooltip": null,
            "_model_module": "@jupyter-widgets/controls",
            "layout": "IPY_MODEL_3b27dc8e07d94c03a8a1970e288c6851"
          }
        },
        "9aa0845b84064ec0b7958e76f791b225": {
          "model_module": "@jupyter-widgets/controls",
          "model_name": "HTMLModel",
          "state": {
            "_view_name": "HTMLView",
            "style": "IPY_MODEL_55b59f667685412ca64d1bd247b811aa",
            "_dom_classes": [],
            "description": "",
            "_model_name": "HTMLModel",
            "placeholder": "​",
            "_view_module": "@jupyter-widgets/controls",
            "_model_module_version": "1.5.0",
            "value": " 32768/? [00:00&lt;00:00, 236915.51it/s]",
            "_view_count": null,
            "_view_module_version": "1.5.0",
            "description_tooltip": null,
            "_model_module": "@jupyter-widgets/controls",
            "layout": "IPY_MODEL_f1de52aa5f09448bb9433b2e5393e095"
          }
        },
        "96acdc3ed58541ed9d06a3835be2516f": {
          "model_module": "@jupyter-widgets/controls",
          "model_name": "ProgressStyleModel",
          "state": {
            "_view_name": "StyleView",
            "_model_name": "ProgressStyleModel",
            "description_width": "initial",
            "_view_module": "@jupyter-widgets/base",
            "_model_module_version": "1.5.0",
            "_view_count": null,
            "_view_module_version": "1.2.0",
            "bar_color": null,
            "_model_module": "@jupyter-widgets/controls"
          }
        },
        "3b27dc8e07d94c03a8a1970e288c6851": {
          "model_module": "@jupyter-widgets/base",
          "model_name": "LayoutModel",
          "state": {
            "_view_name": "LayoutView",
            "grid_template_rows": null,
            "right": null,
            "justify_content": null,
            "_view_module": "@jupyter-widgets/base",
            "overflow": null,
            "_model_module_version": "1.2.0",
            "_view_count": null,
            "flex_flow": null,
            "width": null,
            "min_width": null,
            "border": null,
            "align_items": null,
            "bottom": null,
            "_model_module": "@jupyter-widgets/base",
            "top": null,
            "grid_column": null,
            "overflow_y": null,
            "overflow_x": null,
            "grid_auto_flow": null,
            "grid_area": null,
            "grid_template_columns": null,
            "flex": null,
            "_model_name": "LayoutModel",
            "justify_items": null,
            "grid_row": null,
            "max_height": null,
            "align_content": null,
            "visibility": null,
            "align_self": null,
            "height": null,
            "min_height": null,
            "padding": null,
            "grid_auto_rows": null,
            "grid_gap": null,
            "max_width": null,
            "order": null,
            "_view_module_version": "1.2.0",
            "grid_template_areas": null,
            "object_position": null,
            "object_fit": null,
            "grid_auto_columns": null,
            "margin": null,
            "display": null,
            "left": null
          }
        },
        "55b59f667685412ca64d1bd247b811aa": {
          "model_module": "@jupyter-widgets/controls",
          "model_name": "DescriptionStyleModel",
          "state": {
            "_view_name": "StyleView",
            "_model_name": "DescriptionStyleModel",
            "description_width": "",
            "_view_module": "@jupyter-widgets/base",
            "_model_module_version": "1.5.0",
            "_view_count": null,
            "_view_module_version": "1.2.0",
            "_model_module": "@jupyter-widgets/controls"
          }
        },
        "f1de52aa5f09448bb9433b2e5393e095": {
          "model_module": "@jupyter-widgets/base",
          "model_name": "LayoutModel",
          "state": {
            "_view_name": "LayoutView",
            "grid_template_rows": null,
            "right": null,
            "justify_content": null,
            "_view_module": "@jupyter-widgets/base",
            "overflow": null,
            "_model_module_version": "1.2.0",
            "_view_count": null,
            "flex_flow": null,
            "width": null,
            "min_width": null,
            "border": null,
            "align_items": null,
            "bottom": null,
            "_model_module": "@jupyter-widgets/base",
            "top": null,
            "grid_column": null,
            "overflow_y": null,
            "overflow_x": null,
            "grid_auto_flow": null,
            "grid_area": null,
            "grid_template_columns": null,
            "flex": null,
            "_model_name": "LayoutModel",
            "justify_items": null,
            "grid_row": null,
            "max_height": null,
            "align_content": null,
            "visibility": null,
            "align_self": null,
            "height": null,
            "min_height": null,
            "padding": null,
            "grid_auto_rows": null,
            "grid_gap": null,
            "max_width": null,
            "order": null,
            "_view_module_version": "1.2.0",
            "grid_template_areas": null,
            "object_position": null,
            "object_fit": null,
            "grid_auto_columns": null,
            "margin": null,
            "display": null,
            "left": null
          }
        },
        "d7738162abc0423596ffde8f1fc1886b": {
          "model_module": "@jupyter-widgets/controls",
          "model_name": "HBoxModel",
          "state": {
            "_view_name": "HBoxView",
            "_dom_classes": [],
            "_model_name": "HBoxModel",
            "_view_module": "@jupyter-widgets/controls",
            "_model_module_version": "1.5.0",
            "_view_count": null,
            "_view_module_version": "1.5.0",
            "box_style": "",
            "layout": "IPY_MODEL_95de177494a64714aca2115dad4e6de3",
            "_model_module": "@jupyter-widgets/controls",
            "children": [
              "IPY_MODEL_8bf4b748c49946cfba1596b9f6402c33",
              "IPY_MODEL_54878739e5af4d14aedf475ff9d3be25"
            ]
          }
        },
        "95de177494a64714aca2115dad4e6de3": {
          "model_module": "@jupyter-widgets/base",
          "model_name": "LayoutModel",
          "state": {
            "_view_name": "LayoutView",
            "grid_template_rows": null,
            "right": null,
            "justify_content": null,
            "_view_module": "@jupyter-widgets/base",
            "overflow": null,
            "_model_module_version": "1.2.0",
            "_view_count": null,
            "flex_flow": null,
            "width": null,
            "min_width": null,
            "border": null,
            "align_items": null,
            "bottom": null,
            "_model_module": "@jupyter-widgets/base",
            "top": null,
            "grid_column": null,
            "overflow_y": null,
            "overflow_x": null,
            "grid_auto_flow": null,
            "grid_area": null,
            "grid_template_columns": null,
            "flex": null,
            "_model_name": "LayoutModel",
            "justify_items": null,
            "grid_row": null,
            "max_height": null,
            "align_content": null,
            "visibility": null,
            "align_self": null,
            "height": null,
            "min_height": null,
            "padding": null,
            "grid_auto_rows": null,
            "grid_gap": null,
            "max_width": null,
            "order": null,
            "_view_module_version": "1.2.0",
            "grid_template_areas": null,
            "object_position": null,
            "object_fit": null,
            "grid_auto_columns": null,
            "margin": null,
            "display": null,
            "left": null
          }
        },
        "8bf4b748c49946cfba1596b9f6402c33": {
          "model_module": "@jupyter-widgets/controls",
          "model_name": "FloatProgressModel",
          "state": {
            "_view_name": "ProgressView",
            "style": "IPY_MODEL_3162192f95bf45dd82d48e245e7f442b",
            "_dom_classes": [],
            "description": "",
            "_model_name": "FloatProgressModel",
            "bar_style": "success",
            "max": 1,
            "_view_module": "@jupyter-widgets/controls",
            "_model_module_version": "1.5.0",
            "value": 1,
            "_view_count": null,
            "_view_module_version": "1.5.0",
            "orientation": "horizontal",
            "min": 0,
            "description_tooltip": null,
            "_model_module": "@jupyter-widgets/controls",
            "layout": "IPY_MODEL_e6ced6da2b024da1b3a325cea6ed1704"
          }
        },
        "54878739e5af4d14aedf475ff9d3be25": {
          "model_module": "@jupyter-widgets/controls",
          "model_name": "HTMLModel",
          "state": {
            "_view_name": "HTMLView",
            "style": "IPY_MODEL_2e953780396e4d60a651056c52cadaf8",
            "_dom_classes": [],
            "description": "",
            "_model_name": "HTMLModel",
            "placeholder": "​",
            "_view_module": "@jupyter-widgets/controls",
            "_model_module_version": "1.5.0",
            "value": " 1654784/? [00:07&lt;00:00, 214939.14it/s]",
            "_view_count": null,
            "_view_module_version": "1.5.0",
            "description_tooltip": null,
            "_model_module": "@jupyter-widgets/controls",
            "layout": "IPY_MODEL_616548348e7a4591a6ebed05aea8c524"
          }
        },
        "3162192f95bf45dd82d48e245e7f442b": {
          "model_module": "@jupyter-widgets/controls",
          "model_name": "ProgressStyleModel",
          "state": {
            "_view_name": "StyleView",
            "_model_name": "ProgressStyleModel",
            "description_width": "initial",
            "_view_module": "@jupyter-widgets/base",
            "_model_module_version": "1.5.0",
            "_view_count": null,
            "_view_module_version": "1.2.0",
            "bar_color": null,
            "_model_module": "@jupyter-widgets/controls"
          }
        },
        "e6ced6da2b024da1b3a325cea6ed1704": {
          "model_module": "@jupyter-widgets/base",
          "model_name": "LayoutModel",
          "state": {
            "_view_name": "LayoutView",
            "grid_template_rows": null,
            "right": null,
            "justify_content": null,
            "_view_module": "@jupyter-widgets/base",
            "overflow": null,
            "_model_module_version": "1.2.0",
            "_view_count": null,
            "flex_flow": null,
            "width": null,
            "min_width": null,
            "border": null,
            "align_items": null,
            "bottom": null,
            "_model_module": "@jupyter-widgets/base",
            "top": null,
            "grid_column": null,
            "overflow_y": null,
            "overflow_x": null,
            "grid_auto_flow": null,
            "grid_area": null,
            "grid_template_columns": null,
            "flex": null,
            "_model_name": "LayoutModel",
            "justify_items": null,
            "grid_row": null,
            "max_height": null,
            "align_content": null,
            "visibility": null,
            "align_self": null,
            "height": null,
            "min_height": null,
            "padding": null,
            "grid_auto_rows": null,
            "grid_gap": null,
            "max_width": null,
            "order": null,
            "_view_module_version": "1.2.0",
            "grid_template_areas": null,
            "object_position": null,
            "object_fit": null,
            "grid_auto_columns": null,
            "margin": null,
            "display": null,
            "left": null
          }
        },
        "2e953780396e4d60a651056c52cadaf8": {
          "model_module": "@jupyter-widgets/controls",
          "model_name": "DescriptionStyleModel",
          "state": {
            "_view_name": "StyleView",
            "_model_name": "DescriptionStyleModel",
            "description_width": "",
            "_view_module": "@jupyter-widgets/base",
            "_model_module_version": "1.5.0",
            "_view_count": null,
            "_view_module_version": "1.2.0",
            "_model_module": "@jupyter-widgets/controls"
          }
        },
        "616548348e7a4591a6ebed05aea8c524": {
          "model_module": "@jupyter-widgets/base",
          "model_name": "LayoutModel",
          "state": {
            "_view_name": "LayoutView",
            "grid_template_rows": null,
            "right": null,
            "justify_content": null,
            "_view_module": "@jupyter-widgets/base",
            "overflow": null,
            "_model_module_version": "1.2.0",
            "_view_count": null,
            "flex_flow": null,
            "width": null,
            "min_width": null,
            "border": null,
            "align_items": null,
            "bottom": null,
            "_model_module": "@jupyter-widgets/base",
            "top": null,
            "grid_column": null,
            "overflow_y": null,
            "overflow_x": null,
            "grid_auto_flow": null,
            "grid_area": null,
            "grid_template_columns": null,
            "flex": null,
            "_model_name": "LayoutModel",
            "justify_items": null,
            "grid_row": null,
            "max_height": null,
            "align_content": null,
            "visibility": null,
            "align_self": null,
            "height": null,
            "min_height": null,
            "padding": null,
            "grid_auto_rows": null,
            "grid_gap": null,
            "max_width": null,
            "order": null,
            "_view_module_version": "1.2.0",
            "grid_template_areas": null,
            "object_position": null,
            "object_fit": null,
            "grid_auto_columns": null,
            "margin": null,
            "display": null,
            "left": null
          }
        },
        "d950ca3804ce443f9a0494047697c8d5": {
          "model_module": "@jupyter-widgets/controls",
          "model_name": "HBoxModel",
          "state": {
            "_view_name": "HBoxView",
            "_dom_classes": [],
            "_model_name": "HBoxModel",
            "_view_module": "@jupyter-widgets/controls",
            "_model_module_version": "1.5.0",
            "_view_count": null,
            "_view_module_version": "1.5.0",
            "box_style": "",
            "layout": "IPY_MODEL_44187c09044b4fd0896469e00639eaff",
            "_model_module": "@jupyter-widgets/controls",
            "children": [
              "IPY_MODEL_6617713e85574ed39bd80b63692d738d",
              "IPY_MODEL_32c075343ad14fdc9866ea38140923bb"
            ]
          }
        },
        "44187c09044b4fd0896469e00639eaff": {
          "model_module": "@jupyter-widgets/base",
          "model_name": "LayoutModel",
          "state": {
            "_view_name": "LayoutView",
            "grid_template_rows": null,
            "right": null,
            "justify_content": null,
            "_view_module": "@jupyter-widgets/base",
            "overflow": null,
            "_model_module_version": "1.2.0",
            "_view_count": null,
            "flex_flow": null,
            "width": null,
            "min_width": null,
            "border": null,
            "align_items": null,
            "bottom": null,
            "_model_module": "@jupyter-widgets/base",
            "top": null,
            "grid_column": null,
            "overflow_y": null,
            "overflow_x": null,
            "grid_auto_flow": null,
            "grid_area": null,
            "grid_template_columns": null,
            "flex": null,
            "_model_name": "LayoutModel",
            "justify_items": null,
            "grid_row": null,
            "max_height": null,
            "align_content": null,
            "visibility": null,
            "align_self": null,
            "height": null,
            "min_height": null,
            "padding": null,
            "grid_auto_rows": null,
            "grid_gap": null,
            "max_width": null,
            "order": null,
            "_view_module_version": "1.2.0",
            "grid_template_areas": null,
            "object_position": null,
            "object_fit": null,
            "grid_auto_columns": null,
            "margin": null,
            "display": null,
            "left": null
          }
        },
        "6617713e85574ed39bd80b63692d738d": {
          "model_module": "@jupyter-widgets/controls",
          "model_name": "FloatProgressModel",
          "state": {
            "_view_name": "ProgressView",
            "style": "IPY_MODEL_5c4fe29358e546a2a3d075d35cc3a4a0",
            "_dom_classes": [],
            "description": "",
            "_model_name": "FloatProgressModel",
            "bar_style": "success",
            "max": 1,
            "_view_module": "@jupyter-widgets/controls",
            "_model_module_version": "1.5.0",
            "value": 1,
            "_view_count": null,
            "_view_module_version": "1.5.0",
            "orientation": "horizontal",
            "min": 0,
            "description_tooltip": null,
            "_model_module": "@jupyter-widgets/controls",
            "layout": "IPY_MODEL_60c8b9192f2344f0bf824eaf1afccc33"
          }
        },
        "32c075343ad14fdc9866ea38140923bb": {
          "model_module": "@jupyter-widgets/controls",
          "model_name": "HTMLModel",
          "state": {
            "_view_name": "HTMLView",
            "style": "IPY_MODEL_ea7779fce4754fbcac741dead4179b27",
            "_dom_classes": [],
            "description": "",
            "_model_name": "HTMLModel",
            "placeholder": "​",
            "_view_module": "@jupyter-widgets/controls",
            "_model_module_version": "1.5.0",
            "value": " 8192/? [00:07&lt;00:00, 1104.86it/s]",
            "_view_count": null,
            "_view_module_version": "1.5.0",
            "description_tooltip": null,
            "_model_module": "@jupyter-widgets/controls",
            "layout": "IPY_MODEL_a8200ba7694c4fcba08036dabf1f3f8a"
          }
        },
        "5c4fe29358e546a2a3d075d35cc3a4a0": {
          "model_module": "@jupyter-widgets/controls",
          "model_name": "ProgressStyleModel",
          "state": {
            "_view_name": "StyleView",
            "_model_name": "ProgressStyleModel",
            "description_width": "initial",
            "_view_module": "@jupyter-widgets/base",
            "_model_module_version": "1.5.0",
            "_view_count": null,
            "_view_module_version": "1.2.0",
            "bar_color": null,
            "_model_module": "@jupyter-widgets/controls"
          }
        },
        "60c8b9192f2344f0bf824eaf1afccc33": {
          "model_module": "@jupyter-widgets/base",
          "model_name": "LayoutModel",
          "state": {
            "_view_name": "LayoutView",
            "grid_template_rows": null,
            "right": null,
            "justify_content": null,
            "_view_module": "@jupyter-widgets/base",
            "overflow": null,
            "_model_module_version": "1.2.0",
            "_view_count": null,
            "flex_flow": null,
            "width": null,
            "min_width": null,
            "border": null,
            "align_items": null,
            "bottom": null,
            "_model_module": "@jupyter-widgets/base",
            "top": null,
            "grid_column": null,
            "overflow_y": null,
            "overflow_x": null,
            "grid_auto_flow": null,
            "grid_area": null,
            "grid_template_columns": null,
            "flex": null,
            "_model_name": "LayoutModel",
            "justify_items": null,
            "grid_row": null,
            "max_height": null,
            "align_content": null,
            "visibility": null,
            "align_self": null,
            "height": null,
            "min_height": null,
            "padding": null,
            "grid_auto_rows": null,
            "grid_gap": null,
            "max_width": null,
            "order": null,
            "_view_module_version": "1.2.0",
            "grid_template_areas": null,
            "object_position": null,
            "object_fit": null,
            "grid_auto_columns": null,
            "margin": null,
            "display": null,
            "left": null
          }
        },
        "ea7779fce4754fbcac741dead4179b27": {
          "model_module": "@jupyter-widgets/controls",
          "model_name": "DescriptionStyleModel",
          "state": {
            "_view_name": "StyleView",
            "_model_name": "DescriptionStyleModel",
            "description_width": "",
            "_view_module": "@jupyter-widgets/base",
            "_model_module_version": "1.5.0",
            "_view_count": null,
            "_view_module_version": "1.2.0",
            "_model_module": "@jupyter-widgets/controls"
          }
        },
        "a8200ba7694c4fcba08036dabf1f3f8a": {
          "model_module": "@jupyter-widgets/base",
          "model_name": "LayoutModel",
          "state": {
            "_view_name": "LayoutView",
            "grid_template_rows": null,
            "right": null,
            "justify_content": null,
            "_view_module": "@jupyter-widgets/base",
            "overflow": null,
            "_model_module_version": "1.2.0",
            "_view_count": null,
            "flex_flow": null,
            "width": null,
            "min_width": null,
            "border": null,
            "align_items": null,
            "bottom": null,
            "_model_module": "@jupyter-widgets/base",
            "top": null,
            "grid_column": null,
            "overflow_y": null,
            "overflow_x": null,
            "grid_auto_flow": null,
            "grid_area": null,
            "grid_template_columns": null,
            "flex": null,
            "_model_name": "LayoutModel",
            "justify_items": null,
            "grid_row": null,
            "max_height": null,
            "align_content": null,
            "visibility": null,
            "align_self": null,
            "height": null,
            "min_height": null,
            "padding": null,
            "grid_auto_rows": null,
            "grid_gap": null,
            "max_width": null,
            "order": null,
            "_view_module_version": "1.2.0",
            "grid_template_areas": null,
            "object_position": null,
            "object_fit": null,
            "grid_auto_columns": null,
            "margin": null,
            "display": null,
            "left": null
          }
        }
      }
    }
  },
  "cells": [
    {
      "cell_type": "markdown",
      "metadata": {
        "id": "view-in-github",
        "colab_type": "text"
      },
      "source": [
        "<a href=\"https://colab.research.google.com/github/diego1401/CSE303/blob/main/CSE303_week1.ipynb\" target=\"_parent\"><img src=\"https://colab.research.google.com/assets/colab-badge.svg\" alt=\"Open In Colab\"/></a>"
      ]
    },
    {
      "cell_type": "markdown",
      "metadata": {
        "id": "g8pPHIwIXWPJ"
      },
      "source": [
        "### **WEEK 1**\n",
        "\n",
        "---\n",
        "\n"
      ]
    },
    {
      "cell_type": "markdown",
      "metadata": {
        "id": "MBQ7vkvSVyyC"
      },
      "source": [
        "## **Part 1**"
      ]
    },
    {
      "cell_type": "code",
      "metadata": {
        "id": "es03PbnYUgdY"
      },
      "source": [
        "import torch"
      ],
      "execution_count": 5,
      "outputs": []
    },
    {
      "cell_type": "code",
      "metadata": {
        "id": "AcFH-qTUVeeW",
        "outputId": "428cf68f-e491-45b2-c6e2-281485b762b1",
        "colab": {
          "base_uri": "https://localhost:8080/",
          "height": 85
        }
      },
      "source": [
        "x = torch.rand((2,5))\n",
        "\n",
        "#why does he say there is no reshape?\n",
        "print(x.view((1,10)))\n",
        "print(x.reshape(1,10))"
      ],
      "execution_count": 6,
      "outputs": [
        {
          "output_type": "stream",
          "text": [
            "tensor([[0.2622, 0.9849, 0.6699, 0.6634, 0.9104, 0.0710, 0.6548, 0.3125, 0.4177,\n",
            "         0.2631]])\n",
            "tensor([[0.2622, 0.9849, 0.6699, 0.6634, 0.9104, 0.0710, 0.6548, 0.3125, 0.4177,\n",
            "         0.2631]])\n"
          ],
          "name": "stdout"
        }
      ]
    },
    {
      "cell_type": "markdown",
      "metadata": {
        "id": "2CELhjiVYhf-"
      },
      "source": [
        "## **Part 2**\n",
        "\n",
        "\n",
        "\n"
      ]
    },
    {
      "cell_type": "code",
      "metadata": {
        "id": "ndBLDf56YO3-"
      },
      "source": [
        "\n",
        "import torchvision\n",
        "from torchvision import transforms, datasets"
      ],
      "execution_count": 7,
      "outputs": []
    },
    {
      "cell_type": "code",
      "metadata": {
        "id": "VpTCopHNZQqH",
        "outputId": "168d5171-22a6-4dfa-b874-587d75dfce6c",
        "colab": {
          "base_uri": "https://localhost:8080/",
          "height": 386,
          "referenced_widgets": [
            "6dd6a188da95476cb12dc8e7ed5fe459",
            "4fa50d8c8c0544609516cd5da21df39b",
            "1f7bfed0d3d94353bf0a4fd909c09102",
            "4fd808197ebb4c31ab427c2b45e63f39",
            "9f98b3a1e8884dfe92f6d2988e4e1a15",
            "d190332ecc644bb8ad5249c9d59bcf84",
            "0bb98eb31f5b41dd8bcd5ee6b5b757dc",
            "93fb4667da9e44df81f55270b6e1eaa0",
            "d82ed5ad5ab24369920a883e638e9637",
            "7c063a533e714e2ebae24b9fbc073e92",
            "04852f2b2757453dbe02a6be854e9b65",
            "9aa0845b84064ec0b7958e76f791b225",
            "96acdc3ed58541ed9d06a3835be2516f",
            "3b27dc8e07d94c03a8a1970e288c6851",
            "55b59f667685412ca64d1bd247b811aa",
            "f1de52aa5f09448bb9433b2e5393e095",
            "d7738162abc0423596ffde8f1fc1886b",
            "95de177494a64714aca2115dad4e6de3",
            "8bf4b748c49946cfba1596b9f6402c33",
            "54878739e5af4d14aedf475ff9d3be25",
            "3162192f95bf45dd82d48e245e7f442b",
            "e6ced6da2b024da1b3a325cea6ed1704",
            "2e953780396e4d60a651056c52cadaf8",
            "616548348e7a4591a6ebed05aea8c524",
            "d950ca3804ce443f9a0494047697c8d5",
            "44187c09044b4fd0896469e00639eaff",
            "6617713e85574ed39bd80b63692d738d",
            "32c075343ad14fdc9866ea38140923bb",
            "5c4fe29358e546a2a3d075d35cc3a4a0",
            "60c8b9192f2344f0bf824eaf1afccc33",
            "ea7779fce4754fbcac741dead4179b27",
            "a8200ba7694c4fcba08036dabf1f3f8a"
          ]
        }
      },
      "source": [
        "train = datasets.MNIST(\"\",train=True,download=True,\n",
        "                       transform=transforms.Compose([transforms.ToTensor()]))\n",
        "\n",
        "test = datasets.MNIST(\"\",train=False,download=True,\n",
        "                       transform=transforms.Compose([transforms.ToTensor()]))"
      ],
      "execution_count": 8,
      "outputs": [
        {
          "output_type": "stream",
          "text": [
            "Downloading http://yann.lecun.com/exdb/mnist/train-images-idx3-ubyte.gz to MNIST/raw/train-images-idx3-ubyte.gz\n"
          ],
          "name": "stdout"
        },
        {
          "output_type": "display_data",
          "data": {
            "application/vnd.jupyter.widget-view+json": {
              "model_id": "6dd6a188da95476cb12dc8e7ed5fe459",
              "version_minor": 0,
              "version_major": 2
            },
            "text/plain": [
              "HBox(children=(FloatProgress(value=1.0, bar_style='info', max=1.0), HTML(value='')))"
            ]
          },
          "metadata": {
            "tags": []
          }
        },
        {
          "output_type": "stream",
          "text": [
            "Extracting MNIST/raw/train-images-idx3-ubyte.gz to MNIST/raw\n",
            "Downloading http://yann.lecun.com/exdb/mnist/train-labels-idx1-ubyte.gz to MNIST/raw/train-labels-idx1-ubyte.gz\n"
          ],
          "name": "stdout"
        },
        {
          "output_type": "display_data",
          "data": {
            "application/vnd.jupyter.widget-view+json": {
              "model_id": "d82ed5ad5ab24369920a883e638e9637",
              "version_minor": 0,
              "version_major": 2
            },
            "text/plain": [
              "HBox(children=(FloatProgress(value=1.0, bar_style='info', max=1.0), HTML(value='')))"
            ]
          },
          "metadata": {
            "tags": []
          }
        },
        {
          "output_type": "stream",
          "text": [
            "Extracting MNIST/raw/train-labels-idx1-ubyte.gz to MNIST/raw\n",
            "Downloading http://yann.lecun.com/exdb/mnist/t10k-images-idx3-ubyte.gz to MNIST/raw/t10k-images-idx3-ubyte.gz\n",
            "\n"
          ],
          "name": "stdout"
        },
        {
          "output_type": "display_data",
          "data": {
            "application/vnd.jupyter.widget-view+json": {
              "model_id": "d7738162abc0423596ffde8f1fc1886b",
              "version_minor": 0,
              "version_major": 2
            },
            "text/plain": [
              "HBox(children=(FloatProgress(value=1.0, bar_style='info', max=1.0), HTML(value='')))"
            ]
          },
          "metadata": {
            "tags": []
          }
        },
        {
          "output_type": "stream",
          "text": [
            "Extracting MNIST/raw/t10k-images-idx3-ubyte.gz to MNIST/raw\n",
            "Downloading http://yann.lecun.com/exdb/mnist/t10k-labels-idx1-ubyte.gz to MNIST/raw/t10k-labels-idx1-ubyte.gz\n"
          ],
          "name": "stdout"
        },
        {
          "output_type": "display_data",
          "data": {
            "application/vnd.jupyter.widget-view+json": {
              "model_id": "d950ca3804ce443f9a0494047697c8d5",
              "version_minor": 0,
              "version_major": 2
            },
            "text/plain": [
              "HBox(children=(FloatProgress(value=1.0, bar_style='info', max=1.0), HTML(value='')))"
            ]
          },
          "metadata": {
            "tags": []
          }
        },
        {
          "output_type": "stream",
          "text": [
            "Extracting MNIST/raw/t10k-labels-idx1-ubyte.gz to MNIST/raw\n",
            "Processing...\n",
            "Done!\n"
          ],
          "name": "stdout"
        },
        {
          "output_type": "stream",
          "text": [
            "/usr/local/lib/python3.6/dist-packages/torchvision/datasets/mnist.py:469: UserWarning: The given NumPy array is not writeable, and PyTorch does not support non-writeable tensors. This means you can write to the underlying (supposedly non-writeable) NumPy array using the tensor. You may want to copy the array to protect its data or make it writeable before converting it to a tensor. This type of warning will be suppressed for the rest of this program. (Triggered internally at  /pytorch/torch/csrc/utils/tensor_numpy.cpp:141.)\n",
            "  return torch.from_numpy(parsed.astype(m[2], copy=False)).view(*s)\n"
          ],
          "name": "stderr"
        }
      ]
    },
    {
      "cell_type": "code",
      "metadata": {
        "id": "bkkWtIeZ8FAQ",
        "outputId": "84af4cec-41db-4765-c81c-68796fb6bd47",
        "colab": {
          "base_uri": "https://localhost:8080/",
          "height": 85
        }
      },
      "source": [
        "a = [1,2,3,4]\n",
        "b = torch.utils.data.DataLoader(a)\n",
        "#we see that torch.utils.data.Dataloader puts the elements of a list into tensors\n",
        "for i in b:\n",
        "  print(i)"
      ],
      "execution_count": 9,
      "outputs": [
        {
          "output_type": "stream",
          "text": [
            "tensor([1])\n",
            "tensor([2])\n",
            "tensor([3])\n",
            "tensor([4])\n"
          ],
          "name": "stdout"
        }
      ]
    },
    {
      "cell_type": "code",
      "metadata": {
        "id": "2zQR0GIPaJeD"
      },
      "source": [
        "# We are careful to set shuffle to True, avoid ordered data\n",
        "trainset = torch.utils.data.DataLoader(train, batch_size=10,shuffle=True)\n",
        "testset = torch.utils.data.DataLoader(test, batch_size=10,shuffle=True)"
      ],
      "execution_count": 10,
      "outputs": []
    },
    {
      "cell_type": "code",
      "metadata": {
        "id": "BegJ0oX0aqu4",
        "outputId": "58c2d992-66fa-45b3-fabe-9517b32e0207",
        "colab": {
          "base_uri": "https://localhost:8080/",
          "height": 952
        }
      },
      "source": [
        "for data in trainset:\n",
        "  print(data)\n",
        "  break"
      ],
      "execution_count": 11,
      "outputs": [
        {
          "output_type": "stream",
          "text": [
            "[tensor([[[[0., 0., 0.,  ..., 0., 0., 0.],\n",
            "          [0., 0., 0.,  ..., 0., 0., 0.],\n",
            "          [0., 0., 0.,  ..., 0., 0., 0.],\n",
            "          ...,\n",
            "          [0., 0., 0.,  ..., 0., 0., 0.],\n",
            "          [0., 0., 0.,  ..., 0., 0., 0.],\n",
            "          [0., 0., 0.,  ..., 0., 0., 0.]]],\n",
            "\n",
            "\n",
            "        [[[0., 0., 0.,  ..., 0., 0., 0.],\n",
            "          [0., 0., 0.,  ..., 0., 0., 0.],\n",
            "          [0., 0., 0.,  ..., 0., 0., 0.],\n",
            "          ...,\n",
            "          [0., 0., 0.,  ..., 0., 0., 0.],\n",
            "          [0., 0., 0.,  ..., 0., 0., 0.],\n",
            "          [0., 0., 0.,  ..., 0., 0., 0.]]],\n",
            "\n",
            "\n",
            "        [[[0., 0., 0.,  ..., 0., 0., 0.],\n",
            "          [0., 0., 0.,  ..., 0., 0., 0.],\n",
            "          [0., 0., 0.,  ..., 0., 0., 0.],\n",
            "          ...,\n",
            "          [0., 0., 0.,  ..., 0., 0., 0.],\n",
            "          [0., 0., 0.,  ..., 0., 0., 0.],\n",
            "          [0., 0., 0.,  ..., 0., 0., 0.]]],\n",
            "\n",
            "\n",
            "        ...,\n",
            "\n",
            "\n",
            "        [[[0., 0., 0.,  ..., 0., 0., 0.],\n",
            "          [0., 0., 0.,  ..., 0., 0., 0.],\n",
            "          [0., 0., 0.,  ..., 0., 0., 0.],\n",
            "          ...,\n",
            "          [0., 0., 0.,  ..., 0., 0., 0.],\n",
            "          [0., 0., 0.,  ..., 0., 0., 0.],\n",
            "          [0., 0., 0.,  ..., 0., 0., 0.]]],\n",
            "\n",
            "\n",
            "        [[[0., 0., 0.,  ..., 0., 0., 0.],\n",
            "          [0., 0., 0.,  ..., 0., 0., 0.],\n",
            "          [0., 0., 0.,  ..., 0., 0., 0.],\n",
            "          ...,\n",
            "          [0., 0., 0.,  ..., 0., 0., 0.],\n",
            "          [0., 0., 0.,  ..., 0., 0., 0.],\n",
            "          [0., 0., 0.,  ..., 0., 0., 0.]]],\n",
            "\n",
            "\n",
            "        [[[0., 0., 0.,  ..., 0., 0., 0.],\n",
            "          [0., 0., 0.,  ..., 0., 0., 0.],\n",
            "          [0., 0., 0.,  ..., 0., 0., 0.],\n",
            "          ...,\n",
            "          [0., 0., 0.,  ..., 0., 0., 0.],\n",
            "          [0., 0., 0.,  ..., 0., 0., 0.],\n",
            "          [0., 0., 0.,  ..., 0., 0., 0.]]]]), tensor([4, 6, 4, 1, 6, 4, 3, 8, 5, 5])]\n"
          ],
          "name": "stdout"
        }
      ]
    },
    {
      "cell_type": "code",
      "metadata": {
        "id": "X6wIkr4Db6-D",
        "outputId": "0174049a-a231-471d-c938-d69f647bd03f",
        "colab": {
          "base_uri": "https://localhost:8080/",
          "height": 68
        }
      },
      "source": [
        "x,y = data[0][0],data[1][0]"
      ],
      "execution_count": 12,
      "outputs": [
        {
          "output_type": "stream",
          "text": [
            "\n",
            "\n",
            "\n"
          ],
          "name": "stdout"
        }
      ]
    },
    {
      "cell_type": "code",
      "metadata": {
        "id": "oUxsU1vwcEna",
        "outputId": "d9533055-12ef-4482-9b5c-feefee78b3bd",
        "colab": {
          "base_uri": "https://localhost:8080/",
          "height": 265
        }
      },
      "source": [
        "import matplotlib.pyplot as plt\n",
        "plt.imshow(x.reshape(28,28))\n",
        "plt.show()"
      ],
      "execution_count": 13,
      "outputs": [
        {
          "output_type": "display_data",
          "data": {
            "image/png": "[encoded data removed]",
            "text/plain": [
              "<Figure size 432x288 with 1 Axes>"
            ]
          },
          "metadata": {
            "tags": [],
            "needs_background": "light"
          }
        }
      ]
    },
    {
      "cell_type": "code",
      "metadata": {
        "id": "xU1KSCF39Ugb",
        "outputId": "d67501c3-190f-4d68-89db-1bb82bc3f358",
        "colab": {
          "base_uri": "https://localhost:8080/",
          "height": 34
        }
      },
      "source": [
        "print(y)"
      ],
      "execution_count": 14,
      "outputs": [
        {
          "output_type": "stream",
          "text": [
            "tensor(4)\n"
          ],
          "name": "stdout"
        }
      ]
    },
    {
      "cell_type": "code",
      "metadata": {
        "id": "0yJcgwSMcLr2",
        "outputId": "69c02325-9e26-444a-c165-a49ad6f9ee48",
        "colab": {
          "base_uri": "https://localhost:8080/",
          "height": 34
        }
      },
      "source": [
        "#We always want to check for the BALANCE of the dataset\n",
        "total = 0\n",
        "counter_dict = {0:0,1:0,2:0,3:0,4:0,5:0,6:0,7:0,8:0,9:0}\n",
        "for data in trainset:\n",
        "  Xs, ys = data\n",
        "  for y in ys:\n",
        "    counter_dict[(int(y))] +=1\n",
        "    total +=1\n",
        "print(counter_dict)"
      ],
      "execution_count": 15,
      "outputs": [
        {
          "output_type": "stream",
          "text": [
            "{0: 5923, 1: 6742, 2: 5958, 3: 6131, 4: 5842, 5: 5421, 6: 5918, 7: 6265, 8: 5851, 9: 5949}\n"
          ],
          "name": "stdout"
        }
      ]
    },
    {
      "cell_type": "code",
      "metadata": {
        "id": "7M8J0MkiddQp",
        "outputId": "aac79ccf-5f9f-47be-8cc8-e193bebff3dd",
        "colab": {
          "base_uri": "https://localhost:8080/",
          "height": 187
        }
      },
      "source": [
        "for i in counter_dict:\n",
        "  print(f\"{i}:{counter_dict[i]/total*100}\")"
      ],
      "execution_count": 16,
      "outputs": [
        {
          "output_type": "stream",
          "text": [
            "0:9.871666666666666\n",
            "1:11.236666666666666\n",
            "2:9.93\n",
            "3:10.218333333333334\n",
            "4:9.736666666666666\n",
            "5:9.035\n",
            "6:9.863333333333333\n",
            "7:10.441666666666666\n",
            "8:9.751666666666667\n",
            "9:9.915000000000001\n"
          ],
          "name": "stdout"
        }
      ]
    },
    {
      "cell_type": "markdown",
      "metadata": {
        "id": "gm1CiDICekJn"
      },
      "source": [
        "## **Part 3**"
      ]
    },
    {
      "cell_type": "code",
      "metadata": {
        "id": "TnXa4GgfeAdW"
      },
      "source": [
        "import torch.nn as nn\n",
        "import torch.nn.functional as F\n"
      ],
      "execution_count": 17,
      "outputs": []
    },
    {
      "cell_type": "code",
      "metadata": {
        "id": "4Y6vAQI99znz"
      },
      "source": [
        "#torch.relu for nn.sequetial it creates a nn.Module"
      ],
      "execution_count": 18,
      "outputs": []
    },
    {
      "cell_type": "code",
      "metadata": {
        "id": "Fx3g1DEVfmQn",
        "outputId": "9ff8ac7e-e0ea-412c-cf63-db27bc5435b7",
        "colab": {
          "base_uri": "https://localhost:8080/",
          "height": 119
        }
      },
      "source": [
        "class Net(nn.Module):\n",
        "  def __init__(self):\n",
        "    super().__init__() #super inherit methods and attributes of nn.Module\n",
        "\n",
        "    #layers\n",
        "    self.fc1 = nn.Linear(28*28, 64) #28*28 bc flatten, 64 is arbitrary\n",
        "    self.fc2 = nn.Linear(64, 64)\n",
        "    self.fc3 = nn.Linear(64, 64)\n",
        "    self.fc4 = nn.Linear(64, 10) #10 as output as there are 10 classes\n",
        "\n",
        "\n",
        "  def forward(self, x):\n",
        "    #We can apply logic to this (if,else,...)\n",
        "    x = F.relu(self.fc1(x))\n",
        "    x = F.relu(self.fc2(x))\n",
        "    x = F.relu(self.fc3(x))\n",
        "    x = self.fc4(x)\n",
        "\n",
        "\n",
        "\n",
        "    return F.log_softmax(x,dim=1) \n",
        "\n",
        "#to get a probabilistic result, dim=1 bc\n",
        "#we want the classes to sum to 1, not the batches\n",
        "net = Net()\n",
        "print(net)\n"
      ],
      "execution_count": 19,
      "outputs": [
        {
          "output_type": "stream",
          "text": [
            "Net(\n",
            "  (fc1): Linear(in_features=784, out_features=64, bias=True)\n",
            "  (fc2): Linear(in_features=64, out_features=64, bias=True)\n",
            "  (fc3): Linear(in_features=64, out_features=64, bias=True)\n",
            "  (fc4): Linear(in_features=64, out_features=10, bias=True)\n",
            ")\n"
          ],
          "name": "stdout"
        }
      ]
    },
    {
      "cell_type": "code",
      "metadata": {
        "id": "sfBZJLewiCfZ"
      },
      "source": [
        "X = torch.rand((28,28)).reshape(1,784) # -1 to specify an unknown size\n",
        "output = net(X)"
      ],
      "execution_count": 20,
      "outputs": []
    },
    {
      "cell_type": "code",
      "metadata": {
        "id": "VPfbot0IilEv",
        "outputId": "2502f49c-379a-4da5-db51-d62dc19cc085",
        "colab": {
          "base_uri": "https://localhost:8080/",
          "height": 51
        }
      },
      "source": [
        "output"
      ],
      "execution_count": 21,
      "outputs": [
        {
          "output_type": "execute_result",
          "data": {
            "text/plain": [
              "tensor([[-2.2689, -2.1912, -2.3230, -2.3123, -2.2218, -2.3064, -2.4542, -2.3665,\n",
              "         -2.2340, -2.3761]], grad_fn=<LogSoftmaxBackward>)"
            ]
          },
          "metadata": {
            "tags": []
          },
          "execution_count": 21
        }
      ]
    },
    {
      "cell_type": "code",
      "metadata": {
        "id": "wzoWbkZWkq3D",
        "outputId": "fdd4c695-8c7f-43cc-c07a-876faabbde7b",
        "colab": {
          "base_uri": "https://localhost:8080/",
          "height": 1000
        }
      },
      "source": [
        "print(list(net.parameters()))"
      ],
      "execution_count": 22,
      "outputs": [
        {
          "output_type": "stream",
          "text": [
            "[Parameter containing:\n",
            "tensor([[-0.0009, -0.0250,  0.0062,  ...,  0.0149, -0.0222, -0.0307],\n",
            "        [ 0.0180, -0.0155, -0.0007,  ..., -0.0212, -0.0203, -0.0095],\n",
            "        [ 0.0200, -0.0136,  0.0047,  ..., -0.0019,  0.0258, -0.0069],\n",
            "        ...,\n",
            "        [ 0.0187,  0.0261,  0.0180,  ...,  0.0336, -0.0039, -0.0007],\n",
            "        [ 0.0182, -0.0280, -0.0354,  ..., -0.0334, -0.0012,  0.0150],\n",
            "        [-0.0125,  0.0126,  0.0229,  ...,  0.0052,  0.0287,  0.0010]],\n",
            "       requires_grad=True), Parameter containing:\n",
            "tensor([-1.6786e-03, -2.9446e-02, -2.2371e-02, -3.4770e-02,  2.7618e-03,\n",
            "        -3.4420e-02, -3.3470e-02, -5.9796e-03, -1.3107e-02, -1.6199e-02,\n",
            "        -2.2163e-02,  2.6699e-02,  2.5845e-02, -8.0573e-03, -1.6131e-02,\n",
            "        -2.3564e-02,  7.6716e-03, -2.2822e-02, -9.6601e-03, -7.3938e-03,\n",
            "         8.9998e-03,  1.9568e-02, -3.1440e-02,  2.4471e-03, -3.0764e-02,\n",
            "         3.5250e-02,  9.4065e-05,  2.5642e-02, -1.3508e-02, -5.8832e-03,\n",
            "        -1.0056e-02, -2.8044e-02, -1.7773e-02,  2.2795e-03, -1.0246e-02,\n",
            "         2.4525e-02,  7.0299e-03,  2.0028e-03, -1.6967e-02,  2.5370e-02,\n",
            "         1.1768e-02, -3.2404e-02,  2.2153e-03,  6.9976e-05,  2.6182e-02,\n",
            "         5.5796e-04,  2.6505e-02,  3.3149e-02,  1.7659e-04,  2.7424e-02,\n",
            "         3.5071e-03,  3.2120e-02, -8.5376e-03, -1.4430e-02, -2.8115e-02,\n",
            "         2.2468e-02,  3.0522e-02, -6.8273e-03,  2.3970e-02,  2.0514e-02,\n",
            "        -2.0232e-02, -2.8310e-02,  3.0268e-02,  3.9729e-04],\n",
            "       requires_grad=True), Parameter containing:\n",
            "tensor([[ 0.0281, -0.0981,  0.0847,  ..., -0.0927, -0.1030,  0.0493],\n",
            "        [-0.0034, -0.0968,  0.0862,  ...,  0.0339,  0.0361, -0.0157],\n",
            "        [ 0.0176,  0.0453, -0.0602,  ..., -0.0908,  0.0348, -0.0463],\n",
            "        ...,\n",
            "        [ 0.1051, -0.0695, -0.1208,  ...,  0.0915, -0.0451,  0.0437],\n",
            "        [-0.0136, -0.0602,  0.1125,  ..., -0.0873, -0.0462, -0.1152],\n",
            "        [-0.0801,  0.0708, -0.0514,  ...,  0.0475,  0.0641, -0.0600]],\n",
            "       requires_grad=True), Parameter containing:\n",
            "tensor([-0.0421, -0.0249,  0.0550,  0.0363,  0.0757, -0.0498, -0.0617,  0.0891,\n",
            "        -0.0365,  0.0808,  0.0085, -0.0351,  0.0327, -0.0918,  0.1156,  0.1212,\n",
            "        -0.0432, -0.0932, -0.0578, -0.1198, -0.1094,  0.0822,  0.0689, -0.0300,\n",
            "        -0.1116, -0.1105,  0.0525, -0.0714,  0.0913,  0.0711,  0.0434,  0.0910,\n",
            "        -0.0198,  0.0616, -0.0619,  0.0607,  0.1110,  0.0329, -0.1236,  0.1049,\n",
            "        -0.0719, -0.0089,  0.0910, -0.0929,  0.0242, -0.1025, -0.0469,  0.0331,\n",
            "         0.0563, -0.0948, -0.0243,  0.0078,  0.0996, -0.0261, -0.0891, -0.0429,\n",
            "         0.1242,  0.1249,  0.0686, -0.1032, -0.0349,  0.0398,  0.1140, -0.0208],\n",
            "       requires_grad=True), Parameter containing:\n",
            "tensor([[-1.2233e-03, -2.2387e-02,  1.0487e-01,  ..., -1.1999e-01,\n",
            "          1.0521e-02,  1.2446e-01],\n",
            "        [ 6.9305e-02,  1.0785e-01,  1.2315e-01,  ..., -1.0762e-01,\n",
            "         -3.1443e-02,  1.1604e-01],\n",
            "        [ 1.1095e-01,  1.2436e-01,  5.9538e-02,  ..., -1.2361e-01,\n",
            "         -1.1627e-01, -7.0722e-02],\n",
            "        ...,\n",
            "        [ 1.1176e-01,  1.0446e-01,  7.4140e-02,  ...,  4.7595e-02,\n",
            "          2.9431e-04, -8.2467e-02],\n",
            "        [-2.9751e-03,  5.2438e-02, -6.8102e-02,  ..., -1.1469e-01,\n",
            "          9.7279e-02,  1.2151e-01],\n",
            "        [-6.0110e-02, -9.5246e-03, -1.0046e-01,  ...,  9.4918e-02,\n",
            "         -1.1432e-04,  1.1789e-01]], requires_grad=True), Parameter containing:\n",
            "tensor([-9.9441e-02,  7.2456e-02, -1.0507e-01, -4.8234e-02, -1.0958e-01,\n",
            "         1.2307e-01, -9.2006e-02,  1.3438e-02, -3.0414e-02,  1.0490e-01,\n",
            "        -6.0737e-02,  1.0781e-02,  5.8820e-03, -2.1662e-02,  1.2050e-01,\n",
            "        -3.1807e-03, -5.4814e-02, -6.8049e-02,  5.1888e-02,  3.3929e-03,\n",
            "        -3.2774e-04,  7.9756e-02, -3.4588e-02, -1.1780e-02, -8.3156e-02,\n",
            "        -1.2109e-02, -1.9565e-02,  1.0561e-01,  9.6167e-02,  1.0470e-01,\n",
            "        -8.9188e-02, -1.0464e-01,  6.6767e-02, -1.1561e-01, -5.6486e-02,\n",
            "         3.4725e-02,  1.0375e-01,  6.3619e-02,  5.4345e-05,  1.8983e-02,\n",
            "        -4.5765e-02,  6.6856e-02, -8.8644e-03, -9.9436e-02,  1.0789e-01,\n",
            "        -6.3264e-02,  2.7924e-02, -6.6340e-02,  2.3822e-02, -3.0482e-02,\n",
            "         9.9492e-02,  1.1742e-01, -8.6570e-03,  1.1720e-03, -1.3025e-02,\n",
            "        -6.9621e-02, -8.7340e-02,  7.1811e-02, -2.3049e-02, -1.6808e-02,\n",
            "        -7.9185e-02, -1.1699e-02,  1.1974e-01, -1.0382e-01],\n",
            "       requires_grad=True), Parameter containing:\n",
            "tensor([[ 1.0798e-01,  1.0603e-01, -1.1163e-01,  3.1402e-02,  6.0825e-02,\n",
            "         -8.6968e-02,  1.5294e-02,  1.1276e-01, -8.0876e-02, -1.6886e-02,\n",
            "          3.5640e-02,  5.6329e-03,  1.1790e-01, -1.0586e-01,  6.3484e-02,\n",
            "         -5.3384e-02, -6.4978e-02, -7.9926e-03,  6.7118e-02, -1.2342e-01,\n",
            "         -6.0661e-02, -2.7350e-02,  6.0760e-02, -7.0526e-03, -2.3428e-02,\n",
            "         -5.1276e-02, -4.7545e-02,  5.3143e-02, -9.7945e-02, -4.1182e-02,\n",
            "         -1.1771e-01, -3.8368e-03, -1.0739e-01, -5.8743e-02,  2.4081e-02,\n",
            "          7.3888e-02,  2.8977e-02, -4.2643e-02,  1.2155e-01, -7.5006e-02,\n",
            "          1.0449e-01,  1.0257e-01, -7.4759e-02, -6.4956e-02,  9.6290e-02,\n",
            "         -6.1375e-04,  1.1481e-02,  5.9267e-02, -5.9777e-02, -3.3836e-02,\n",
            "          6.1816e-02, -1.0383e-01, -6.9274e-02, -6.8942e-02, -1.1546e-01,\n",
            "         -1.1533e-01, -6.2681e-02,  4.8486e-02,  8.0238e-02, -4.7513e-02,\n",
            "          5.4272e-02, -9.5957e-02, -1.0409e-01,  4.8567e-02],\n",
            "        [-5.1492e-02, -1.9922e-02, -1.1339e-01, -5.5514e-02,  5.6709e-02,\n",
            "          4.8926e-02,  1.0768e-01,  6.0581e-02, -1.0090e-01,  1.2075e-01,\n",
            "          1.2917e-02,  8.3979e-03, -1.2341e-01, -5.2905e-02, -3.6769e-02,\n",
            "         -8.7341e-02, -3.4266e-02,  5.5719e-02,  8.1763e-02, -4.1571e-02,\n",
            "         -1.1628e-01, -5.7273e-02, -3.8405e-02,  8.9490e-04,  1.5904e-02,\n",
            "         -2.9338e-02, -1.2126e-01, -8.4310e-02, -1.5965e-02,  2.5436e-03,\n",
            "          9.8317e-03, -1.2130e-01,  1.0229e-01, -1.3619e-02,  7.3169e-02,\n",
            "          2.0351e-02,  9.9513e-02,  3.2091e-02,  5.9760e-02,  2.1540e-02,\n",
            "          1.2112e-01, -5.7852e-02, -9.7446e-02, -1.0011e-01,  1.1701e-01,\n",
            "         -5.5473e-02, -1.6032e-02, -4.5502e-03, -8.3144e-02,  3.9802e-02,\n",
            "          1.0584e-01, -6.4587e-02,  6.1202e-02,  6.8309e-02,  6.5921e-02,\n",
            "         -1.1619e-01,  3.4579e-02,  5.1291e-02,  8.6018e-02,  1.0381e-01,\n",
            "          1.2487e-01, -2.5250e-02,  1.1312e-01,  1.0003e-01],\n",
            "        [ 7.2426e-03,  1.6197e-02, -8.8114e-02, -2.8514e-02, -1.0575e-01,\n",
            "         -2.8323e-02, -2.4957e-02, -6.6786e-02, -8.1475e-02, -4.7362e-02,\n",
            "          6.4173e-02, -9.9796e-02, -3.7189e-02,  1.0066e-01,  1.7179e-02,\n",
            "          2.3911e-02, -1.3803e-02, -1.1023e-02,  4.6021e-02, -1.1552e-01,\n",
            "          2.3687e-02,  1.0492e-01, -1.1546e-01,  7.6733e-02, -8.2672e-03,\n",
            "         -4.3982e-02,  1.1286e-01, -3.5766e-02, -8.7049e-02,  1.1455e-01,\n",
            "          3.0586e-02, -3.1067e-02,  7.5850e-02, -9.9385e-02, -2.2550e-02,\n",
            "          6.1427e-02,  9.0312e-02, -6.7230e-02,  1.2400e-01, -8.2688e-02,\n",
            "          4.0354e-02,  1.0577e-01, -8.8891e-02, -1.0885e-01,  4.2480e-02,\n",
            "         -3.9906e-02, -4.3328e-02, -1.2472e-01,  9.8713e-02, -2.3131e-02,\n",
            "          5.7409e-02, -4.0269e-02, -2.9360e-02, -5.4683e-02, -1.1929e-01,\n",
            "         -1.1161e-01, -9.5511e-02, -4.8520e-02,  8.1663e-03, -6.6647e-02,\n",
            "         -5.4221e-02,  7.7677e-03, -9.0008e-02,  7.5594e-02],\n",
            "        [-8.5210e-02, -9.1667e-02, -2.1155e-02, -3.8505e-02, -5.9441e-02,\n",
            "         -1.1272e-01, -1.4935e-02, -1.2061e-01,  5.9884e-02, -7.0273e-02,\n",
            "          2.8167e-02,  9.3706e-02,  6.7229e-02,  8.8782e-02,  2.0427e-02,\n",
            "         -6.7063e-02,  7.1164e-02,  8.6501e-02, -7.0938e-02,  2.1219e-02,\n",
            "          1.0845e-01,  9.4243e-02,  2.1390e-02,  1.1358e-01,  1.6857e-02,\n",
            "         -1.1136e-01,  9.5143e-02,  1.9744e-02,  7.5525e-02,  2.7005e-02,\n",
            "          1.1635e-01, -5.6596e-02, -4.1534e-02, -5.3895e-02,  4.2100e-02,\n",
            "          7.0103e-02, -4.1041e-02,  1.5886e-02,  5.3986e-02,  2.6937e-02,\n",
            "          3.8274e-02, -2.0697e-02, -8.0502e-02, -1.2441e-01, -9.3941e-02,\n",
            "          8.9663e-02, -3.2881e-02, -3.4648e-02,  8.5205e-02,  6.7450e-02,\n",
            "         -8.1804e-02, -6.6851e-02,  4.9241e-02, -9.5609e-02, -1.2302e-01,\n",
            "          6.7253e-02, -7.5454e-02, -3.7369e-02,  2.8101e-02,  7.0579e-02,\n",
            "          1.1709e-01,  1.1054e-01, -1.1779e-01, -3.5579e-03],\n",
            "        [ 1.1736e-01,  6.0034e-02,  9.9629e-03,  6.0491e-02, -1.7241e-02,\n",
            "         -5.3951e-03, -1.5691e-02,  9.9851e-02, -6.8287e-02, -3.6933e-02,\n",
            "         -2.3606e-02,  3.6958e-02, -4.5694e-02,  9.0591e-02, -1.1501e-01,\n",
            "         -2.0863e-02,  3.7708e-02, -6.9750e-03, -9.1335e-02, -1.0087e-01,\n",
            "         -6.6385e-02,  5.1763e-02, -3.8656e-02, -9.0892e-02,  5.7467e-02,\n",
            "         -6.7520e-02, -6.3700e-02, -1.1373e-01, -3.6408e-02,  7.4502e-02,\n",
            "          5.8892e-02, -6.6713e-02, -7.9052e-03,  2.9362e-03, -3.4502e-02,\n",
            "         -4.9863e-02, -2.1623e-02,  1.1101e-01, -1.2312e-01,  1.3300e-02,\n",
            "          5.0261e-02,  3.3128e-02,  7.5990e-02, -7.8216e-02,  3.1062e-02,\n",
            "          6.1249e-02, -1.1555e-01, -7.7091e-02, -1.1870e-01, -2.3749e-02,\n",
            "         -2.9272e-03,  8.3399e-02, -5.9641e-02, -3.1596e-02,  1.0150e-01,\n",
            "          6.3096e-02,  1.1047e-01, -2.8964e-02,  9.7601e-02, -2.0194e-02,\n",
            "          6.0299e-02,  7.5294e-02,  1.1958e-01, -8.2631e-02],\n",
            "        [-1.0957e-01, -5.8462e-02, -8.5102e-02, -9.7118e-02,  3.8836e-02,\n",
            "         -1.7698e-03,  1.0534e-01,  1.1527e-01, -2.8152e-02, -4.5567e-02,\n",
            "         -5.8911e-02, -1.0328e-01, -6.2472e-02, -3.8607e-02, -3.2290e-02,\n",
            "         -5.2349e-02,  8.7998e-02, -3.0544e-02,  8.2806e-02,  1.5423e-02,\n",
            "          6.9053e-02, -2.2368e-02,  5.3156e-02, -9.1681e-02,  7.3937e-02,\n",
            "          3.0455e-03, -4.7580e-02,  2.6080e-02, -4.1682e-02, -5.0707e-02,\n",
            "          1.0315e-01,  3.6953e-02,  7.2758e-02, -2.5991e-02, -7.9274e-02,\n",
            "          6.1054e-02, -3.9359e-03, -1.0364e-01,  1.2072e-01, -1.0867e-02,\n",
            "         -8.7678e-02,  1.2290e-01, -2.6989e-02,  6.7599e-02,  4.3427e-02,\n",
            "         -1.2217e-01,  7.7499e-02,  1.0071e-01,  9.6480e-02, -4.2649e-02,\n",
            "         -4.1271e-02,  4.4493e-02, -5.5364e-02,  1.1851e-01,  4.4549e-02,\n",
            "          2.8949e-02,  1.1694e-01, -4.3220e-02,  3.6934e-02, -3.5322e-02,\n",
            "         -8.1383e-02, -1.8131e-02,  1.0862e-01,  1.1078e-02],\n",
            "        [ 1.4620e-02,  2.8554e-02,  8.8629e-02, -2.6501e-02,  2.4816e-02,\n",
            "         -2.1217e-02,  4.2475e-02, -1.0964e-01,  4.5329e-02, -3.0786e-02,\n",
            "          9.9976e-02,  2.7220e-02, -9.2847e-02,  8.2215e-02, -1.7528e-02,\n",
            "         -7.1229e-02, -8.1542e-02,  3.1687e-02,  1.0431e-01, -6.7697e-02,\n",
            "         -7.0082e-02, -6.7064e-03, -1.2366e-01,  1.1537e-01, -8.1625e-02,\n",
            "         -1.9230e-02, -1.0439e-02,  8.7509e-02, -7.1970e-03, -5.3043e-02,\n",
            "          6.8319e-02,  8.3060e-02, -5.9120e-02, -2.4532e-02, -9.5539e-02,\n",
            "         -1.1639e-01,  5.1199e-02,  6.4755e-02, -6.5218e-02,  6.6226e-02,\n",
            "          4.2610e-02, -8.9608e-02, -5.1325e-03,  1.1053e-01, -1.0776e-01,\n",
            "         -1.0167e-01, -8.2022e-03, -8.4159e-02,  3.5366e-02,  1.1928e-02,\n",
            "         -1.2341e-01, -1.2317e-01, -9.6558e-02,  6.8099e-02,  1.1385e-01,\n",
            "          6.8100e-02, -3.2169e-02, -3.2486e-02, -4.3524e-02, -1.0209e-01,\n",
            "          2.0087e-02, -2.7132e-02, -5.9868e-02,  6.3892e-02],\n",
            "        [ 1.4781e-02,  5.2129e-02, -7.8798e-03,  1.7199e-02, -7.8051e-02,\n",
            "          5.5669e-02,  5.1846e-02,  2.6923e-02, -9.1003e-02, -8.2261e-02,\n",
            "          1.0083e-01,  8.2309e-02, -1.1146e-01,  6.0971e-02, -1.0912e-01,\n",
            "          3.4786e-02,  6.4788e-02,  1.4159e-02,  1.1268e-01, -4.4817e-02,\n",
            "          2.2335e-02, -3.6185e-02,  4.7711e-02, -9.5703e-02, -1.1588e-01,\n",
            "         -1.7615e-02,  4.7029e-02,  1.2126e-01,  7.3982e-03,  5.6505e-02,\n",
            "          6.7580e-04,  3.1361e-02, -2.6094e-02,  6.1885e-02,  1.1149e-01,\n",
            "         -2.1908e-02,  3.7868e-02, -1.2785e-02, -5.7837e-02, -1.2396e-01,\n",
            "          2.7838e-02, -9.1557e-02,  8.0737e-02,  9.6988e-02,  3.3977e-02,\n",
            "          3.7397e-02,  1.2490e-01, -1.0058e-01, -9.2444e-03,  7.7855e-02,\n",
            "          6.9615e-02, -3.0716e-02, -7.3562e-02, -1.2459e-01, -6.0796e-02,\n",
            "         -1.1206e-01, -3.6075e-02,  6.5893e-05, -9.5926e-02,  6.8033e-02,\n",
            "          5.5856e-02,  9.0758e-02,  6.4238e-02, -1.1068e-01],\n",
            "        [ 9.1034e-04,  2.4832e-02, -7.9109e-02, -2.7122e-02,  7.0701e-02,\n",
            "          8.3303e-02, -2.3364e-02, -1.2250e-01, -9.3689e-02, -5.6862e-02,\n",
            "          6.3748e-02,  9.4368e-03, -4.2682e-02, -3.3762e-02,  9.1003e-02,\n",
            "         -2.7504e-02, -3.3595e-02,  4.0324e-02,  5.1578e-02,  3.6281e-02,\n",
            "          9.1663e-02,  5.4343e-02,  6.0150e-02, -1.0311e-01,  2.7974e-02,\n",
            "          1.1383e-01, -1.2243e-01, -5.8665e-02,  2.9897e-02,  3.2985e-02,\n",
            "          1.1685e-02,  7.5323e-02,  9.1985e-02, -5.7158e-02, -3.6135e-02,\n",
            "          2.7476e-02, -1.0446e-01,  5.6206e-02, -2.8739e-02,  1.1523e-01,\n",
            "         -9.1037e-02, -7.3464e-02,  5.6449e-02, -8.2956e-02,  6.5941e-02,\n",
            "          6.1186e-02, -1.2643e-02,  3.0282e-02, -1.2009e-01,  9.3321e-02,\n",
            "         -1.7140e-02, -1.2336e-01, -5.3602e-02,  1.1354e-01, -1.0278e-01,\n",
            "          4.0989e-02, -4.9799e-02,  1.0223e-01,  9.2989e-02, -9.7182e-02,\n",
            "         -1.1098e-01, -1.0563e-02, -7.2443e-02,  3.1596e-03],\n",
            "        [-7.4981e-02, -2.3247e-02, -5.5478e-02,  1.1648e-01,  1.2171e-01,\n",
            "          1.0999e-01,  2.2117e-02,  1.0858e-01,  5.2007e-02,  5.7615e-02,\n",
            "         -3.3992e-02, -1.9228e-02,  7.0988e-02,  1.0895e-01, -6.4263e-02,\n",
            "          1.2211e-01,  3.3182e-02,  5.0936e-02, -9.8752e-02,  1.0028e-01,\n",
            "         -3.6470e-02,  7.3017e-02, -1.0652e-01,  2.4707e-02,  8.4402e-02,\n",
            "         -5.6444e-02,  9.1753e-02, -1.0552e-02, -1.0227e-02, -6.7368e-02,\n",
            "          3.1858e-02, -9.9155e-02, -8.3527e-02,  6.5167e-02,  1.0468e-01,\n",
            "         -8.0841e-02,  3.4218e-03, -1.1551e-01, -2.8431e-02, -7.5624e-02,\n",
            "          8.3209e-02, -3.1796e-03,  5.0258e-02, -1.1439e-01,  1.2494e-01,\n",
            "         -5.0052e-02, -4.8494e-02, -6.1283e-02,  1.2444e-01,  9.8254e-02,\n",
            "         -7.6782e-03,  1.7620e-02,  4.6382e-02, -7.8197e-02,  3.2802e-02,\n",
            "         -1.0495e-01, -4.0972e-02, -2.5265e-02, -7.1535e-02,  1.1939e-01,\n",
            "         -5.9141e-02, -1.1536e-01,  1.1294e-01, -1.1702e-01]],\n",
            "       requires_grad=True), Parameter containing:\n",
            "tensor([ 0.0607,  0.0822, -0.0086,  0.0876,  0.1020, -0.0018, -0.0750, -0.0563,\n",
            "         0.0940, -0.0465], requires_grad=True)]\n"
          ],
          "name": "stdout"
        }
      ]
    },
    {
      "cell_type": "code",
      "metadata": {
        "id": "QwLDEgIyjVdF",
        "outputId": "e6007055-835f-487b-c115-97a65df87f39",
        "colab": {
          "base_uri": "https://localhost:8080/",
          "height": 68
        }
      },
      "source": [
        "import torch.optim as optim\n",
        "\n",
        "optimizer = optim.Adam(net.parameters(),lr=0.001)\n",
        "\n",
        "EPOCHS = 3\n",
        "\n",
        "for epoch in range(EPOCHS):\n",
        "  for data in trainset:\n",
        "    #data here is a bacth\n",
        "    X,y = data\n",
        "    net.zero_grad()\n",
        "    output = net(X.reshape(-1,784))\n",
        "    loss = F.nll_loss(output,y) #we use nll_loss bc we dont have a one hot vect\n",
        "    #repr for the targets, for one hot vect use MSE\n",
        "    #we could do it by hand, i.e SGD\n",
        "    loss.backward()\n",
        "    optimizer.step()\n",
        "  print(loss)\n",
        "\n",
        "#We mainly use pytorch for reasearch\n",
        "#Tensorflow for google, apps, also google reasearch\n",
        "# Caffe and Caffe 2 also exist\n"
      ],
      "execution_count": 23,
      "outputs": [
        {
          "output_type": "stream",
          "text": [
            "tensor(0.0694, grad_fn=<NllLossBackward>)\n",
            "tensor(0.1051, grad_fn=<NllLossBackward>)\n",
            "tensor(0.0011, grad_fn=<NllLossBackward>)\n"
          ],
          "name": "stdout"
        }
      ]
    },
    {
      "cell_type": "code",
      "metadata": {
        "id": "xvyADHcgfxbx"
      },
      "source": [
        "import torch"
      ],
      "execution_count": 24,
      "outputs": []
    },
    {
      "cell_type": "code",
      "metadata": {
        "id": "2ko8RY-zlehK",
        "outputId": "24f92d45-a380-4e81-913d-568fd4ce56ec",
        "colab": {
          "base_uri": "https://localhost:8080/",
          "height": 282
        }
      },
      "source": [
        "correct = 0\n",
        "total = 0\n",
        "\n",
        "with torch.no_grad(): #we dont wanna calculate gradients\n",
        "  for data in trainset:\n",
        "    X,y = data\n",
        "    output = net(X.reshape(-1,784))\n",
        "    for idx, i in enumerate(output):\n",
        "      if torch.argmax(i) == y[idx]:\n",
        "        correct += 1\n",
        "      else:\n",
        "        plt.imshow(X[idx].reshape(28,28))\n",
        "        #I dont even know what that is XD\n",
        "      total +=1\n",
        "\n",
        "print(\"Accuracy: \",correct/total)\n"
      ],
      "execution_count": 25,
      "outputs": [
        {
          "output_type": "stream",
          "text": [
            "Accuracy:  0.97735\n"
          ],
          "name": "stdout"
        },
        {
          "output_type": "display_data",
          "data": {
            "image/png": "[encoded data removed]",
            "text/plain": [
              "<Figure size 432x288 with 1 Axes>"
            ]
          },
          "metadata": {
            "tags": [],
            "needs_background": "light"
          }
        }
      ]
    },
    {
      "cell_type": "code",
      "metadata": {
        "id": "BLr2EeBzpBha",
        "outputId": "6dd23a73-7e94-4fcb-da16-28ac1dcba528",
        "colab": {
          "base_uri": "https://localhost:8080/",
          "height": 265
        }
      },
      "source": [
        "plt.imshow(X[9].reshape(28,28))\n",
        "plt.show()"
      ],
      "execution_count": 26,
      "outputs": [
        {
          "output_type": "display_data",
          "data": {
            "image/png": "[encoded data removed]",
            "text/plain": [
              "<Figure size 432x288 with 1 Axes>"
            ]
          },
          "metadata": {
            "tags": [],
            "needs_background": "light"
          }
        }
      ]
    },
    {
      "cell_type": "code",
      "metadata": {
        "id": "6K1xDhclphUS",
        "outputId": "ef24e3bf-88d6-410a-ffab-9b5bf27c7614",
        "colab": {
          "base_uri": "https://localhost:8080/",
          "height": 34
        }
      },
      "source": [
        "print(torch.argmax(net(X[9].reshape(-1,784))))"
      ],
      "execution_count": 27,
      "outputs": [
        {
          "output_type": "stream",
          "text": [
            "tensor(3)\n"
          ],
          "name": "stdout"
        }
      ]
    },
    {
      "cell_type": "markdown",
      "metadata": {
        "id": "WaFlji55jJif"
      },
      "source": [
        "## Part 5"
      ]
    },
    {
      "cell_type": "markdown",
      "metadata": {
        "id": "SY9b3Ie6jgpG"
      },
      "source": [
        "Convolutional neural networks"
      ]
    },
    {
      "cell_type": "code",
      "metadata": {
        "id": "y_Q7Rk2B9khK",
        "outputId": "8f43e01f-d0ed-4651-bf65-c89307e78296",
        "colab": {
          "base_uri": "https://localhost:8080/",
          "height": 34
        }
      },
      "source": [
        "#we use this to be able to access the data in the drive\n",
        "from google.colab import drive\n",
        "drive.mount('/content/drive')"
      ],
      "execution_count": 28,
      "outputs": [
        {
          "output_type": "stream",
          "text": [
            "Mounted at /content/drive\n"
          ],
          "name": "stdout"
        }
      ]
    },
    {
      "cell_type": "code",
      "metadata": {
        "id": "0rIaoPzGOOeg",
        "outputId": "5caf4345-7100-4ef5-a85f-83c82e956589",
        "colab": {
          "base_uri": "https://localhost:8080/",
          "height": 51
        }
      },
      "source": [
        "import os\n",
        "path = '/content/drive/My Drive/Colab Notebooks'\n",
        "#os.chdir(path)\n",
        "\n",
        "cwd = os.getcwd()\n",
        "print(cwd)\n",
        "\n",
        "print(os.listdir())\n"
      ],
      "execution_count": 31,
      "outputs": [
        {
          "output_type": "stream",
          "text": [
            "/content/drive/My Drive/Colab Notebooks\n",
            "['catvdog.zip', 'folder', 'training_data.npy', 'MNIST', 'CSE303_week1.ipynb']\n"
          ],
          "name": "stdout"
        }
      ]
    },
    {
      "cell_type": "code",
      "metadata": {
        "id": "RJpFSD4ANyNo"
      },
      "source": [
        "#we used this to unzip the dataset into folder\n",
        "#!unzip -uq \"catvdog.zip\" -d \"folder\""
      ],
      "execution_count": null,
      "outputs": []
    },
    {
      "cell_type": "code",
      "metadata": {
        "id": "pYDgYEePjM9j"
      },
      "source": [
        "import os\n",
        "import cv2\n",
        "import numpy as np\n",
        "from tqdm import tqdm\n",
        "\n",
        "REBUILD_DATA = False\n",
        "\n",
        "class DogsVsCats():\n",
        "  IMG_SIZE = 50\n",
        "  \n",
        "  CATS = \"folder/PetImages/Cat\"\n",
        "  DOGS = \"folder/PetImages/Dog\"\n",
        "  LABELS = {CATS:0, DOGS:1}\n",
        "  training_data = []\n",
        "  catcount = 0\n",
        "  dogcount = 0\n",
        "  #BALANCE\n",
        "\n",
        "  def make_training_data(self):\n",
        "    for label in self.LABELS:\n",
        "      print(label)\n",
        "      for f in tqdm(os.listdir(label)):\n",
        "        try:\n",
        "          path = os.path.join(label,f)\n",
        "          img = cv2.imread(path,cv2.IMREAD_GRAYSCALE)\n",
        "          #simplify\n",
        "          img = cv2.resize(img,(self.IMG_SIZE,self.IMG_SIZE))\n",
        "          self.training_data.append([np.array(img),np.eye(2)[self.LABELS[label]]])\n",
        "\n",
        "          if label == self.CATS:\n",
        "            self.catcount += 1\n",
        "          elif label == self.DOGS:\n",
        "            self.dogcount += 1\n",
        "        except Exception as e:\n",
        "          print(str(e))\n",
        "          pass\n",
        "      \n",
        "      np.random.shuffle(self.training_data)\n",
        "      np.save(\"training_data.npy\",self.training_data)\n",
        "      print(\"Cats:\",self.catcount)\n",
        "      print(\"Dogs:\",self.dogcount)\n",
        "\n",
        "if REBUILD_DATA:\n",
        "  dogsvcats = DogsVsCats()\n",
        "  dogsvcats.make_training_data()"
      ],
      "execution_count": 32,
      "outputs": []
    },
    {
      "cell_type": "code",
      "metadata": {
        "id": "Zh-_G0nlokN-"
      },
      "source": [
        "#this is a cool trick to transform numbers into a 1 hot representation\n",
        "#np.eye(# of classes)[index of target]"
      ],
      "execution_count": null,
      "outputs": []
    },
    {
      "cell_type": "code",
      "metadata": {
        "id": "67495_hQbCFJ"
      },
      "source": [
        "training_data = np.load(\"training_data.npy\",allow_pickle=True)"
      ],
      "execution_count": 33,
      "outputs": []
    },
    {
      "cell_type": "code",
      "metadata": {
        "id": "Qhcp_uX4beLK",
        "outputId": "3933de6f-54e8-455d-fc28-47443dce1997",
        "colab": {
          "base_uri": "https://localhost:8080/",
          "height": 34
        }
      },
      "source": [
        "print(len(training_data))"
      ],
      "execution_count": 34,
      "outputs": [
        {
          "output_type": "stream",
          "text": [
            "24946\n"
          ],
          "name": "stdout"
        }
      ]
    },
    {
      "cell_type": "code",
      "metadata": {
        "id": "DhC62sYmbg0C",
        "outputId": "f8bb1eec-b475-46de-ffb6-2d481b57544b",
        "colab": {
          "base_uri": "https://localhost:8080/",
          "height": 267
        }
      },
      "source": [
        "import matplotlib.pyplot as plt\n",
        "plt.imshow(training_data[1][0],cmap='gray')\n",
        "plt.show()"
      ],
      "execution_count": 35,
      "outputs": [
        {
          "output_type": "display_data",
          "data": {
            "image/png": "[encoded data removed]",
            "text/plain": [
              "<Figure size 432x288 with 1 Axes>"
            ]
          },
          "metadata": {
            "tags": [],
            "needs_background": "light"
          }
        }
      ]
    },
    {
      "cell_type": "code",
      "metadata": {
        "id": "mxy4GT3BbrXe"
      },
      "source": [
        "class Net(nn.Module):\n",
        "  def __init__(self):\n",
        "    super().__init__()\n",
        "    self.conv1 = nn.Conv2d(1,32,5)\n",
        "    self.conv2 = nn.Conv2d(32,64,5)\n",
        "    self.conv3 = nn.Conv2d(64,128,5)\n",
        "\n",
        "    x = torch.randn(50,50).reshape(-1,1,50,50)\n",
        "    #UNDERSTAND SIZE OF LINEAR INPUT\n",
        "    \n",
        "    self._to_linear = None\n",
        "    self.convs(x)\n",
        "    self.fc1 = nn.Linear(self._to_linear,512)\n",
        "    self.fc2 = nn.Linear(512,2)\n",
        "  def convs(self,x):\n",
        "    x = F.max_pool2d(F.relu(self.conv1(x)),(2,2))\n",
        "    x = F.max_pool2d(F.relu(self.conv2(x)),(2,2))\n",
        "    x = F.max_pool2d(F.relu(self.conv3(x)),(2,2))\n",
        "    if self._to_linear is None:\n",
        "      self._to_linear = x[0].shape[0] * x[0].shape[1] * x[0].shape[2]\n",
        "    return x\n",
        "\n",
        "  def forward(self,x):\n",
        "    x = self.convs(x)\n",
        "    x = x.reshape(-1,self._to_linear)\n",
        "    x = F.relu(self.fc1(x))\n",
        "    x = self.fc2(x)\n",
        "    return F.softmax(x, dim=1)\n",
        "\n",
        "net = Net()"
      ],
      "execution_count": 36,
      "outputs": []
    },
    {
      "cell_type": "code",
      "metadata": {
        "id": "gBm1EIBTI0Y9",
        "outputId": "d29be32f-da1c-480a-b3d9-bcba86dcfad5",
        "colab": {
          "base_uri": "https://localhost:8080/",
          "height": 34
        }
      },
      "source": [
        "optmizer = optim.Adam(net.parameters(),lr=0.001)\n",
        "loss_function = nn.MSELoss()\n",
        "\n",
        "X = torch.Tensor([i[0] for i in training_data]).reshape(-1,50,50)\n",
        "X = X/255.0\n",
        "y = torch.Tensor([i[1] for i in training_data])\n",
        "\n",
        "VAL_PCT = 0.1\n",
        "val_size = int(len(X) * VAL_PCT)\n",
        "print(val_size)"
      ],
      "execution_count": 37,
      "outputs": [
        {
          "output_type": "stream",
          "text": [
            "2494\n"
          ],
          "name": "stdout"
        }
      ]
    },
    {
      "cell_type": "code",
      "metadata": {
        "id": "SzRDl0rcLYAn",
        "outputId": "57c1dcff-2b42-49e9-dc53-9bc33251bce3",
        "colab": {
          "base_uri": "https://localhost:8080/",
          "height": 51
        }
      },
      "source": [
        "#Important to have a validation set\n",
        "train_X = X[:-val_size]\n",
        "train_y = y[:-val_size]\n",
        "\n",
        "test_X = X[-val_size:]\n",
        "test_y = y[-val_size:]\n",
        "\n",
        "print(len(train_X))\n",
        "print(len(test_X))"
      ],
      "execution_count": 39,
      "outputs": [
        {
          "output_type": "stream",
          "text": [
            "22452\n",
            "2494\n"
          ],
          "name": "stdout"
        }
      ]
    },
    {
      "cell_type": "code",
      "metadata": {
        "id": "oeJawfhtLpzl",
        "outputId": "5123fea2-f0f1-468a-dbe3-47ea285f96c9",
        "colab": {
          "base_uri": "https://localhost:8080/",
          "height": 34
        }
      },
      "source": [
        "BATCH_SIZE = 100\n",
        "\n",
        "EPOCHS = 1\n",
        "for epoch in range(EPOCHS):\n",
        "  for i in tqdm(range(0,len(train_X),BATCH_SIZE)):\n",
        "    batch_X = train_X[i:i+BATCH_SIZE].reshape(-1,1,50,50)\n",
        "    batch_y = train_y[i:i+BATCH_SIZE]\n",
        "\n",
        "    net.zero_grad()\n",
        "    #as long as the mode.parameters() are controled by the optim, equivalent to \n",
        "    #optim.zero_grad()\n",
        "    outputs = net(batch_X)\n",
        "    loss = loss_function(outputs, batch_y)\n",
        "    loss.backward()\n",
        "    optimizer.step()"
      ],
      "execution_count": 40,
      "outputs": [
        {
          "output_type": "stream",
          "text": [
            "100%|██████████| 225/225 [01:49<00:00,  2.06it/s]\n"
          ],
          "name": "stderr"
        }
      ]
    },
    {
      "cell_type": "code",
      "metadata": {
        "id": "8GJ3im00MP3-",
        "outputId": "7b266d2e-7561-45af-90ac-4e6a5b9362da",
        "colab": {
          "base_uri": "https://localhost:8080/",
          "height": 51
        }
      },
      "source": [
        "correct = 0\n",
        "total = 0\n",
        "with torch.no_grad():\n",
        "  for i in tqdm(range(len(test_X))):\n",
        "    real_class = torch.argmax(test_y[i])\n",
        "    net_out = net(test_X[i].reshape(-1,1,50,50))[0]\n",
        "    predicted_class = torch.argmax(net_out)\n",
        "    if predicted_class == real_class:\n",
        "      correct += 1\n",
        "    total += 1\n",
        "print(\"Accuracy:\",correct/total)"
      ],
      "execution_count": 41,
      "outputs": [
        {
          "output_type": "stream",
          "text": [
            "100%|██████████| 2494/2494 [00:07<00:00, 347.62it/s]"
          ],
          "name": "stderr"
        },
        {
          "output_type": "stream",
          "text": [
            "Accuracy: 0.49518845228548514\n"
          ],
          "name": "stdout"
        },
        {
          "output_type": "stream",
          "text": [
            "\n"
          ],
          "name": "stderr"
        }
      ]
    },
    {
      "cell_type": "code",
      "metadata": {
        "id": "Smp324T2PBxN"
      },
      "source": [
        ""
      ],
      "execution_count": null,
      "outputs": []
    }
  ]
}